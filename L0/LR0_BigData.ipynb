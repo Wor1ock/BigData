{
  "nbformat": 4,
  "nbformat_minor": 0,
  "metadata": {
    "colab": {
      "provenance": [],
      "collapsed_sections": [
        "82OvPKEiEqjc",
        "Vq3EWRIpwSiJ",
        "QtTFyqke3KGe",
        "BNhh5763w5Vn",
        "kNKYIeerx0nY",
        "ruZREYdi2o4O",
        "h-jRAcYCAkkk",
        "cfvAeZm3S8S8",
        "k86bXnqZTk-U",
        "xanzszhsIlLe",
        "sxL3N3UPUEB5",
        "w27Ca-_Ku85V",
        "7gau6lKXvn2R",
        "dQ8TuEbjv4J8",
        "AVOpqoY3wE5k"
      ]
    },
    "kernelspec": {
      "name": "python3",
      "display_name": "Python 3"
    }
  },
  "cells": [
    {
      "cell_type": "code",
      "source": [
        "# Формат вывода ячейки\n",
        "\n",
        "from IPython.display import HTML, display\n",
        "\n",
        "def set_css():\n",
        "  display(HTML('''\n",
        "  <style>\n",
        "    pre {\n",
        "        white-space: pre-wrap;\n",
        "    }\n",
        "  </style>\n",
        "  '''))\n",
        "get_ipython().events.register('pre_run_cell', set_css)"
      ],
      "metadata": {
        "id": "2AhmiTPNM0Dl"
      },
      "execution_count": null,
      "outputs": []
    },
    {
      "cell_type": "markdown",
      "metadata": {
        "id": "82OvPKEiEqjc"
      },
      "source": [
        "# Введение в MapReduce модель на Python\n"
      ]
    },
    {
      "cell_type": "code",
      "metadata": {
        "id": "JQ2cvXLjICmI"
      },
      "source": [
        "from typing import NamedTuple # requires python 3.6+\n",
        "from typing import Iterator"
      ],
      "execution_count": null,
      "outputs": []
    },
    {
      "cell_type": "code",
      "metadata": {
        "id": "yjPHumVwEyEg"
      },
      "source": [
        "def MAP(_, row:NamedTuple):\n",
        "  if (row.gender == 'female'):\n",
        "    yield (row.age, row)\n",
        "\n",
        "def REDUCE(age:str, rows:Iterator[NamedTuple]):\n",
        "  sum = 0\n",
        "  count = 0\n",
        "  for row in rows:\n",
        "    sum += row.social_contacts\n",
        "    count += 1\n",
        "  if (count > 0):\n",
        "    yield (age, sum/count)\n",
        "  else:\n",
        "    yield (age, 0)"
      ],
      "execution_count": null,
      "outputs": []
    },
    {
      "cell_type": "markdown",
      "metadata": {
        "id": "vBKMgpG_ilaZ"
      },
      "source": [
        "Модель элемента данных"
      ]
    },
    {
      "cell_type": "code",
      "metadata": {
        "id": "Rv-XIjhTJPx3"
      },
      "source": [
        "class User(NamedTuple):\n",
        "  id: int\n",
        "  age: str\n",
        "  social_contacts: int\n",
        "  gender: str"
      ],
      "execution_count": null,
      "outputs": []
    },
    {
      "cell_type": "code",
      "metadata": {
        "id": "5KV0Ze2vQgu5"
      },
      "source": [
        "input_collection = [\n",
        "    User(id=0, age=55, gender='male', social_contacts=20),\n",
        "    User(id=1, age=25, gender='female', social_contacts=240),\n",
        "    User(id=2, age=25, gender='female', social_contacts=500),\n",
        "    User(id=3, age=33, gender='female', social_contacts=800)\n",
        "]"
      ],
      "execution_count": null,
      "outputs": []
    },
    {
      "cell_type": "markdown",
      "metadata": {
        "id": "YFeqzyZxZIFZ"
      },
      "source": [
        "Функция RECORDREADER моделирует чтение элементов с диска или по сети."
      ]
    },
    {
      "cell_type": "code",
      "metadata": {
        "id": "S5HR4E_GQoMJ"
      },
      "source": [
        "def RECORDREADER():\n",
        "  return [(u.id, u) for u in input_collection]"
      ],
      "execution_count": null,
      "outputs": []
    },
    {
      "cell_type": "code",
      "metadata": {
        "id": "NeEoWla-ROUy",
        "colab": {
          "base_uri": "https://localhost:8080/"
        },
        "outputId": "a9d59985-2770-4900-bc37-a6279b9dffa6"
      },
      "source": [
        "list(RECORDREADER())"
      ],
      "execution_count": null,
      "outputs": [
        {
          "output_type": "execute_result",
          "data": {
            "text/plain": [
              "[(0, User(id=0, age=55, social_contacts=20, gender='male')),\n",
              " (1, User(id=1, age=25, social_contacts=240, gender='female')),\n",
              " (2, User(id=2, age=25, social_contacts=500, gender='female')),\n",
              " (3, User(id=3, age=33, social_contacts=800, gender='female'))]"
            ]
          },
          "metadata": {},
          "execution_count": 6
        }
      ]
    },
    {
      "cell_type": "code",
      "metadata": {
        "id": "YB8orgPSZs8M"
      },
      "source": [
        "def flatten(nested_iterable):\n",
        "  for iterable in nested_iterable:\n",
        "    for element in iterable:\n",
        "      yield element"
      ],
      "execution_count": null,
      "outputs": []
    },
    {
      "cell_type": "code",
      "metadata": {
        "id": "74oyvDLaRmd5",
        "colab": {
          "base_uri": "https://localhost:8080/"
        },
        "outputId": "40ced9e2-6b4b-4912-84ed-262fc34f14ba"
      },
      "source": [
        "map_output = flatten(map(lambda x: MAP(*x), RECORDREADER()))\n",
        "map_output = list(map_output) # materialize\n",
        "map_output"
      ],
      "execution_count": null,
      "outputs": [
        {
          "output_type": "execute_result",
          "data": {
            "text/plain": [
              "[(25, User(id=1, age=25, social_contacts=240, gender='female')),\n",
              " (25, User(id=2, age=25, social_contacts=500, gender='female')),\n",
              " (33, User(id=3, age=33, social_contacts=800, gender='female'))]"
            ]
          },
          "metadata": {},
          "execution_count": 13
        }
      ]
    },
    {
      "cell_type": "code",
      "metadata": {
        "id": "8ncYDJ3-VzDn"
      },
      "source": [
        "def groupbykey(iterable):\n",
        "  t = {}\n",
        "  for (k2, v2) in iterable:\n",
        "    t[k2] = t.get(k2, []) + [v2]\n",
        "  return t.items()"
      ],
      "execution_count": null,
      "outputs": []
    },
    {
      "cell_type": "code",
      "metadata": {
        "id": "cKzY_6COWOA2",
        "colab": {
          "base_uri": "https://localhost:8080/"
        },
        "outputId": "2aa82a0b-30dc-4c64-92df-448c709458c8"
      },
      "source": [
        "shuffle_output = groupbykey(map_output)\n",
        "shuffle_output = list(shuffle_output)\n",
        "shuffle_output"
      ],
      "execution_count": null,
      "outputs": [
        {
          "output_type": "execute_result",
          "data": {
            "text/plain": [
              "[(25,\n",
              "  [User(id=1, age=25, social_contacts=240, gender='female'),\n",
              "   User(id=2, age=25, social_contacts=500, gender='female')]),\n",
              " (33, [User(id=3, age=33, social_contacts=800, gender='female')])]"
            ]
          },
          "metadata": {},
          "execution_count": 15
        }
      ]
    },
    {
      "cell_type": "code",
      "metadata": {
        "id": "NlA7lkDDYL0t",
        "colab": {
          "base_uri": "https://localhost:8080/"
        },
        "outputId": "92a1b0cd-b8c7-49f8-c88c-c7971cb8556d"
      },
      "source": [
        "reduce_output = flatten(map(lambda x: REDUCE(*x), shuffle_output))\n",
        "reduce_output = list(reduce_output)\n",
        "reduce_output"
      ],
      "execution_count": null,
      "outputs": [
        {
          "output_type": "execute_result",
          "data": {
            "text/plain": [
              "[(25, 370.0), (33, 800.0)]"
            ]
          },
          "metadata": {},
          "execution_count": 16
        }
      ]
    },
    {
      "cell_type": "markdown",
      "metadata": {
        "id": "xf6qhHEtd6bI"
      },
      "source": [
        "Все действия одним конвейером!"
      ]
    },
    {
      "cell_type": "code",
      "metadata": {
        "id": "dZaQGYxCdpw5",
        "colab": {
          "base_uri": "https://localhost:8080/"
        },
        "outputId": "ac089fca-f1f2-494f-90e7-7bc6af4db02a"
      },
      "source": [
        "list(flatten(map(lambda x: REDUCE(*x), groupbykey(flatten(map(lambda x: MAP(*x), RECORDREADER()))))))"
      ],
      "execution_count": null,
      "outputs": [
        {
          "output_type": "execute_result",
          "data": {
            "text/plain": [
              "[(25, 370.0), (33, 800.0)]"
            ]
          },
          "metadata": {},
          "execution_count": 17
        }
      ]
    },
    {
      "cell_type": "markdown",
      "metadata": {
        "id": "Vq3EWRIpwSiJ"
      },
      "source": [
        "# **MapReduce**\n",
        "Выделим общую для всех пользователей часть системы в отдельную функцию высшего порядка. Это наиболее простая модель MapReduce, без учёта распределённого хранения данных.\n",
        "\n",
        "Пользователь для решения своей задачи реализует RECORDREADER, MAP, REDUCE."
      ]
    },
    {
      "cell_type": "code",
      "metadata": {
        "id": "V1PZeQMwwVjc"
      },
      "source": [
        "def flatten(nested_iterable):\n",
        "  for iterable in nested_iterable:\n",
        "    for element in iterable:\n",
        "      yield element\n",
        "\n",
        "def groupbykey(iterable):\n",
        "  t = {}\n",
        "  for (k2, v2) in iterable:\n",
        "    t[k2] = t.get(k2, []) + [v2]\n",
        "  return t.items()\n",
        "\n",
        "def MapReduce(RECORDREADER, MAP, REDUCE):\n",
        "  return flatten(map(lambda x: REDUCE(*x), groupbykey(flatten(map(lambda x: MAP(*x), RECORDREADER())))))"
      ],
      "execution_count": null,
      "outputs": []
    },
    {
      "cell_type": "markdown",
      "metadata": {
        "id": "iFIVrimep678"
      },
      "source": [
        "## Спецификация MapReduce\n",
        "\n",
        "\n",
        "\n",
        "```\n",
        "f (k1, v1) -> (k2,v2)*\n",
        "g (k2, v2*) -> (k3,v3)*\n",
        "\n",
        "mapreduce ((k1,v1)*) -> (k3,v3)*\n",
        "groupby ((k2,v2)*) -> (k2,v2*)*\n",
        "flatten (e2**) -> e2*\n",
        "\n",
        "mapreduce .map(f).flatten.groupby(k2).map(g).flatten\n",
        "```\n",
        "\n",
        "\n"
      ]
    },
    {
      "cell_type": "markdown",
      "metadata": {
        "id": "QtTFyqke3KGe"
      },
      "source": [
        "# Примеры"
      ]
    },
    {
      "cell_type": "markdown",
      "metadata": {
        "id": "BNhh5763w5Vn"
      },
      "source": [
        "## SQL"
      ]
    },
    {
      "cell_type": "code",
      "metadata": {
        "id": "QkyurnvGxBGk",
        "colab": {
          "base_uri": "https://localhost:8080/",
          "height": 34
        },
        "outputId": "84761282-d2ba-435a-e8d7-a85150730e10"
      },
      "source": [
        "from typing import NamedTuple # requires python 3.6+\n",
        "from typing import Iterator\n",
        "\n",
        "class User(NamedTuple):\n",
        "  id: int\n",
        "  age: str\n",
        "  social_contacts: int\n",
        "  gender: str\n",
        "\n",
        "input_collection = [\n",
        "    User(id=0, age=55, gender='male', social_contacts=20),\n",
        "    User(id=1, age=25, gender='female', social_contacts=240),\n",
        "    User(id=2, age=25, gender='female', social_contacts=500),\n",
        "    User(id=3, age=33, gender='female', social_contacts=800)\n",
        "]\n",
        "\n",
        "def MAP(_, row:NamedTuple):\n",
        "  if (row.gender == 'female'):\n",
        "    yield (row.age, row)\n",
        "\n",
        "def REDUCE(age:str, rows:Iterator[NamedTuple]):\n",
        "  sum = 0\n",
        "  count = 0\n",
        "  for row in rows:\n",
        "    sum += row.social_contacts\n",
        "    count += 1\n",
        "  if (count > 0):\n",
        "    yield (age, sum/count)\n",
        "  else:\n",
        "    yield (age, 0)\n",
        "\n",
        "def RECORDREADER():\n",
        "  return [(u.id, u) for u in input_collection]\n",
        "\n",
        "output = MapReduce(RECORDREADER, MAP, REDUCE)\n",
        "output = list(output)\n",
        "output"
      ],
      "execution_count": null,
      "outputs": [
        {
          "output_type": "execute_result",
          "data": {
            "text/plain": [
              "[(25, 370.0), (33, 800.0)]"
            ]
          },
          "metadata": {
            "tags": []
          },
          "execution_count": 28
        }
      ]
    },
    {
      "cell_type": "markdown",
      "metadata": {
        "id": "kNKYIeerx0nY"
      },
      "source": [
        "## Matrix-Vector multiplication"
      ]
    },
    {
      "cell_type": "code",
      "metadata": {
        "id": "rwcntRcCyi1V",
        "colab": {
          "base_uri": "https://localhost:8080/",
          "height": 102
        },
        "outputId": "606737ab-6b55-455c-931f-4fc45155f8a9"
      },
      "source": [
        "from typing import Iterator\n",
        "import numpy as np\n",
        "\n",
        "mat = np.ones((5,4))\n",
        "vec = np.random.rand(4) # in-memory vector in all map tasks\n",
        "\n",
        "def MAP(coordinates:(int, int), value:int):\n",
        "  i, j = coordinates\n",
        "  yield (i, value*vec[j])\n",
        "\n",
        "def REDUCE(i:int, products:Iterator[NamedTuple]):\n",
        "  sum = 0\n",
        "  for p in products:\n",
        "    sum += p\n",
        "  yield (i, sum)\n",
        "\n",
        "def RECORDREADER():\n",
        "  for i in range(mat.shape[0]):\n",
        "    for j in range(mat.shape[1]):\n",
        "      yield ((i, j), mat[i,j])\n",
        "\n",
        "output = MapReduce(RECORDREADER, MAP, REDUCE)\n",
        "output = list(output)\n",
        "output"
      ],
      "execution_count": null,
      "outputs": [
        {
          "output_type": "execute_result",
          "data": {
            "text/plain": [
              "[(0, 2.905589809636405),\n",
              " (1, 2.905589809636405),\n",
              " (2, 2.905589809636405),\n",
              " (3, 2.905589809636405),\n",
              " (4, 2.905589809636405)]"
            ]
          },
          "metadata": {
            "tags": []
          },
          "execution_count": 29
        }
      ]
    },
    {
      "cell_type": "markdown",
      "metadata": {
        "id": "ruZREYdi2o4O"
      },
      "source": [
        "## Inverted index"
      ]
    },
    {
      "cell_type": "code",
      "metadata": {
        "id": "vt9H9Alf3TYv",
        "colab": {
          "base_uri": "https://localhost:8080/",
          "height": 102
        },
        "outputId": "51aeffc9-e111-4607-bd84-cfcc7b56f238"
      },
      "source": [
        "from typing import Iterator\n",
        "\n",
        "d1 = \"it is what it is\"\n",
        "d2 = \"what is it\"\n",
        "d3 = \"it is a banana\"\n",
        "documents = [d1, d2, d3]\n",
        "\n",
        "def RECORDREADER():\n",
        "  for (docid, document) in enumerate(documents):\n",
        "    yield (\"{}\".format(docid), document)\n",
        "\n",
        "def MAP(docId:str, body:str):\n",
        "  for word in set(body.split(' ')):\n",
        "    yield (word, docId)\n",
        "\n",
        "def REDUCE(word:str, docIds:Iterator[str]):\n",
        "  yield (word, sorted(docIds))\n",
        "\n",
        "output = MapReduce(RECORDREADER, MAP, REDUCE)\n",
        "output = list(output)\n",
        "output"
      ],
      "execution_count": null,
      "outputs": [
        {
          "output_type": "execute_result",
          "data": {
            "text/plain": [
              "[('what', ['0', '1']),\n",
              " ('is', ['0', '1', '2']),\n",
              " ('it', ['0', '1', '2']),\n",
              " ('a', ['2']),\n",
              " ('banana', ['2'])]"
            ]
          },
          "metadata": {
            "tags": []
          },
          "execution_count": 30
        }
      ]
    },
    {
      "cell_type": "markdown",
      "metadata": {
        "id": "R7az-6DA6qr2"
      },
      "source": [
        "## WordCount"
      ]
    },
    {
      "cell_type": "code",
      "metadata": {
        "id": "dN-nbtgG6uYG",
        "colab": {
          "base_uri": "https://localhost:8080/",
          "height": 34
        },
        "outputId": "24117576-7931-401d-a581-28e246b23453"
      },
      "source": [
        "from typing import Iterator\n",
        "\n",
        "d1 = \"\"\"\n",
        "it is what it is\n",
        "it is what it is\n",
        "it is what it is\"\"\"\n",
        "d2 = \"\"\"\n",
        "what is it\n",
        "what is it\"\"\"\n",
        "d3 = \"\"\"\n",
        "it is a banana\"\"\"\n",
        "documents = [d1, d2, d3]\n",
        "\n",
        "def RECORDREADER():\n",
        "  for (docid, document) in enumerate(documents):\n",
        "    for (lineid, line) in enumerate(document.split('\\n')):\n",
        "      yield (\"{}:{}\".format(docid,lineid), line)\n",
        "\n",
        "def MAP(docId:str, line:str):\n",
        "  for word in line.split(\" \"):\n",
        "    yield (word, 1)\n",
        "\n",
        "def REDUCE(word:str, counts:Iterator[int]):\n",
        "  sum = 0\n",
        "  for c in counts:\n",
        "    sum += c\n",
        "  yield (word, sum)\n",
        "\n",
        "output = MapReduce(RECORDREADER, MAP, REDUCE)\n",
        "output = list(output)\n",
        "output"
      ],
      "execution_count": null,
      "outputs": [
        {
          "output_type": "execute_result",
          "data": {
            "text/plain": [
              "[('', 3), ('it', 9), ('is', 9), ('what', 5), ('a', 1), ('banana', 1)]"
            ]
          },
          "metadata": {
            "tags": []
          },
          "execution_count": 31
        }
      ]
    },
    {
      "cell_type": "markdown",
      "metadata": {
        "id": "h-jRAcYCAkkk"
      },
      "source": [
        "# MapReduce Distributed\n",
        "\n",
        "Добавляется в модель фабрика RECORDREARER-ов --- INPUTFORMAT, функция распределения промежуточных результатов по партициям PARTITIONER, и функция COMBINER для частичной аггрегации промежуточных результатов до распределения по новым партициям."
      ]
    },
    {
      "cell_type": "code",
      "metadata": {
        "id": "nw-b-xJsApgW"
      },
      "source": [
        "def flatten(nested_iterable):\n",
        "  for iterable in nested_iterable:\n",
        "    for element in iterable:\n",
        "      yield element\n",
        "\n",
        "def groupbykey(iterable):\n",
        "  t = {}\n",
        "  for (k2, v2) in iterable:\n",
        "    t[k2] = t.get(k2, []) + [v2]\n",
        "  return t.items()\n",
        "\n",
        "def groupbykey_distributed(map_partitions, PARTITIONER):\n",
        "  global reducers\n",
        "  partitions = [dict() for _ in range(reducers)]\n",
        "  for map_partition in map_partitions:\n",
        "    for (k2, v2) in map_partition:\n",
        "      p = partitions[PARTITIONER(k2)]\n",
        "      p[k2] = p.get(k2, []) + [v2]\n",
        "  return [(partition_id, sorted(partition.items(), key=lambda x: x[0])) for (partition_id, partition) in enumerate(partitions)]\n",
        "\n",
        "def PARTITIONER(obj):\n",
        "  global reducers\n",
        "  return hash(obj) % reducers\n",
        "\n",
        "def MapReduceDistributed(INPUTFORMAT, MAP, REDUCE, PARTITIONER=PARTITIONER, COMBINER=None):\n",
        "  map_partitions = map(lambda record_reader: flatten(map(lambda k1v1: MAP(*k1v1), record_reader)), INPUTFORMAT())\n",
        "  if COMBINER != None:\n",
        "    map_partitions = map(lambda map_partition: flatten(map(lambda k2v2: COMBINER(*k2v2), groupbykey(map_partition))), map_partitions)\n",
        "  reduce_partitions = groupbykey_distributed(map_partitions, PARTITIONER) # shuffle\n",
        "  reduce_outputs = map(lambda reduce_partition: (reduce_partition[0], flatten(map(lambda reduce_input_group: REDUCE(*reduce_input_group), reduce_partition[1]))), reduce_partitions)\n",
        "\n",
        "  print(\"{} key-value pairs were sent over a network.\".format(sum([len(vs) for (k,vs) in flatten([partition for (partition_id, partition) in reduce_partitions])])))\n",
        "  return reduce_outputs"
      ],
      "execution_count": null,
      "outputs": []
    },
    {
      "cell_type": "markdown",
      "metadata": {
        "id": "kxirlf3XqZxY"
      },
      "source": [
        "## Спецификация MapReduce Distributed\n",
        "\n",
        "\n",
        "```\n",
        "f (k1, v1) -> (k2,v2)*\n",
        "g (k2, v2*) -> (k3,v3)*\n",
        "\n",
        "e1 (k1, v1)\n",
        "e2 (k2, v2)\n",
        "partition1 (k2, v2)*\n",
        "partition2 (k2, v2*)*\n",
        "\n",
        "flatmap (e1->e2*, e1*) -> partition1*\n",
        "groupby (partition1*) -> partition2*\n",
        "\n",
        "mapreduce ((k1,v1)*) -> (k3,v3)*\n",
        "mapreduce .flatmap(f).groupby(k2).flatmap(g)\n",
        "```\n",
        "\n"
      ]
    },
    {
      "cell_type": "markdown",
      "metadata": {
        "id": "CWYw_CpbbY3C"
      },
      "source": [
        "## WordCount"
      ]
    },
    {
      "cell_type": "code",
      "metadata": {
        "id": "uR_zfGFkMZlp",
        "colab": {
          "base_uri": "https://localhost:8080/",
          "height": 68
        },
        "outputId": "c8d46167-473d-43b9-881a-2396991b3731"
      },
      "source": [
        "from typing import Iterator\n",
        "import numpy as np\n",
        "\n",
        "d1 = \"\"\"\n",
        "it is what it is\n",
        "it is what it is\n",
        "it is what it is\"\"\"\n",
        "d2 = \"\"\"\n",
        "what is it\n",
        "what is it\"\"\"\n",
        "d3 = \"\"\"\n",
        "it is a banana\"\"\"\n",
        "documents = [d1, d2, d3, d1, d2, d3]\n",
        "\n",
        "maps = 3\n",
        "reducers = 2\n",
        "\n",
        "def INPUTFORMAT():\n",
        "  global maps\n",
        "\n",
        "  def RECORDREADER(split):\n",
        "    for (docid, document) in enumerate(split):\n",
        "      for (lineid, line) in enumerate(document.split('\\n')):\n",
        "        yield (\"{}:{}\".format(docid,lineid), line)\n",
        "\n",
        "  split_size =  int(np.ceil(len(documents)/maps))\n",
        "  for i in range(0, len(documents), split_size):\n",
        "    yield RECORDREADER(documents[i:i+split_size])\n",
        "\n",
        "def MAP(docId:str, line:str):\n",
        "  for word in line.split(\" \"):\n",
        "    yield (word, 1)\n",
        "\n",
        "def REDUCE(word:str, counts:Iterator[int]):\n",
        "  sum = 0\n",
        "  for c in counts:\n",
        "    sum += c\n",
        "  yield (word, sum)\n",
        "\n",
        "# try to set COMBINER=REDUCER and look at the number of values sent over the network\n",
        "partitioned_output = MapReduceDistributed(INPUTFORMAT, MAP, REDUCE, COMBINER=None)\n",
        "partitioned_output = [(partition_id, list(partition)) for (partition_id, partition) in partitioned_output]\n",
        "partitioned_output"
      ],
      "execution_count": null,
      "outputs": [
        {
          "output_type": "stream",
          "text": [
            "56 key-value pairs were sent over a network.\n"
          ],
          "name": "stdout"
        },
        {
          "output_type": "execute_result",
          "data": {
            "text/plain": [
              "[(0, [('', 6), ('a', 2), ('banana', 2), ('is', 18), ('it', 18), ('what', 10)]),\n",
              " (1, [])]"
            ]
          },
          "metadata": {
            "tags": []
          },
          "execution_count": 33
        }
      ]
    },
    {
      "cell_type": "markdown",
      "metadata": {
        "id": "gCJGx8IQ87xS"
      },
      "source": [
        "## TeraSort"
      ]
    },
    {
      "cell_type": "code",
      "metadata": {
        "id": "P2v8v1v_8_YR",
        "colab": {
          "base_uri": "https://localhost:8080/",
          "height": 578
        },
        "outputId": "e0987c25-9757-46cb-8e55-d5d2adfbee2b"
      },
      "source": [
        "import numpy as np\n",
        "\n",
        "input_values = np.random.rand(30)\n",
        "maps = 3\n",
        "reducers = 2\n",
        "min_value = 0.0\n",
        "max_value = 1.0\n",
        "\n",
        "def INPUTFORMAT():\n",
        "  global maps\n",
        "\n",
        "  def RECORDREADER(split):\n",
        "    for value in split:\n",
        "        yield (value, None)\n",
        "\n",
        "  split_size =  int(np.ceil(len(input_values)/maps))\n",
        "  for i in range(0, len(input_values), split_size):\n",
        "    yield RECORDREADER(input_values[i:i+split_size])\n",
        "\n",
        "def MAP(value:int, _):\n",
        "  yield (value, None)\n",
        "\n",
        "def PARTITIONER(key):\n",
        "  global reducers\n",
        "  global max_value\n",
        "  global min_value\n",
        "  bucket_size = (max_value-min_value)/reducers\n",
        "  bucket_id = 0\n",
        "  while((key>(bucket_id+1)*bucket_size) and ((bucket_id+1)*bucket_size<max_value)):\n",
        "    bucket_id += 1\n",
        "  return bucket_id\n",
        "\n",
        "def REDUCE(value:int, _):\n",
        "  yield (None,value)\n",
        "\n",
        "partitioned_output = MapReduceDistributed(INPUTFORMAT, MAP, REDUCE, COMBINER=None, PARTITIONER=PARTITIONER)\n",
        "partitioned_output = [(partition_id, list(partition)) for (partition_id, partition) in partitioned_output]\n",
        "partitioned_output"
      ],
      "execution_count": null,
      "outputs": [
        {
          "output_type": "stream",
          "text": [
            "30 key-value pairs were sent over a network.\n"
          ],
          "name": "stdout"
        },
        {
          "output_type": "execute_result",
          "data": {
            "text/plain": [
              "[(0,\n",
              "  [(None, 0.0059671639991895065),\n",
              "   (None, 0.07724245496172),\n",
              "   (None, 0.08440804135613444),\n",
              "   (None, 0.13575647907181598),\n",
              "   (None, 0.14404826813474803),\n",
              "   (None, 0.21204275967955666),\n",
              "   (None, 0.21869633101751806),\n",
              "   (None, 0.25055756276216923),\n",
              "   (None, 0.28642389538931257),\n",
              "   (None, 0.3834487515438496),\n",
              "   (None, 0.3913614390023946),\n",
              "   (None, 0.4041378102237341),\n",
              "   (None, 0.41854626274930695),\n",
              "   (None, 0.4704310153549396),\n",
              "   (None, 0.4776995227348928),\n",
              "   (None, 0.48992216726013693)]),\n",
              " (1,\n",
              "  [(None, 0.5005353544023048),\n",
              "   (None, 0.5135664686748047),\n",
              "   (None, 0.53391984417089),\n",
              "   (None, 0.5587932025401512),\n",
              "   (None, 0.5673804905854288),\n",
              "   (None, 0.6926646597910275),\n",
              "   (None, 0.7237444251339501),\n",
              "   (None, 0.7557883138083207),\n",
              "   (None, 0.785709769245918),\n",
              "   (None, 0.7937098630029404),\n",
              "   (None, 0.7942646850708935),\n",
              "   (None, 0.9160468126494941),\n",
              "   (None, 0.9618068292060864),\n",
              "   (None, 0.9820764489731459)])]"
            ]
          },
          "metadata": {
            "tags": []
          },
          "execution_count": 34
        }
      ]
    },
    {
      "cell_type": "markdown",
      "metadata": {
        "id": "Iy65YJTH99iT"
      },
      "source": [
        "# Упражнения\n",
        "Упражнения взяты из Rajaraman A., Ullman J. D. Mining of massive datasets. – Cambridge University Press, 2011.\n",
        "\n",
        "\n",
        "Для выполнения заданий переопределите функции RECORDREADER, MAP, REDUCE. Для модели распределённой системы может потребоваться переопределение функций PARTITION и COMBINER."
      ]
    },
    {
      "cell_type": "markdown",
      "metadata": {
        "id": "cfvAeZm3S8S8"
      },
      "source": [
        "### Максимальное значение ряда\n",
        "\n",
        "Разработайте MapReduce алгоритм, который находит максимальное число входного списка чисел."
      ]
    },
    {
      "cell_type": "code",
      "metadata": {
        "id": "3GRA1JR-Tkbg",
        "colab": {
          "base_uri": "https://localhost:8080/"
        },
        "outputId": "bacb7b06-d4e1-41a8-8c22-9ce2646b0b34"
      },
      "source": [
        "import random\n",
        "from functools import reduce\n",
        "from typing import List\n",
        "\n",
        "def MAP(numList: List[int]) -> int:\n",
        "    return max(numList)\n",
        "\n",
        "def REDUCE(max1: int, max2: int) -> int:\n",
        "    return max(max1, max2)\n",
        "\n",
        "def RECORDREADER(count: int) -> List[int]:\n",
        "    return [random.randint(0, 100) for _ in range(count)]\n",
        "\n",
        "# Генерация нескольких списков случайных чисел\n",
        "record = RECORDREADER(10)\n",
        "\n",
        "print(\"Record:\", record)\n",
        "\n",
        "# Выполнение Map: нахождение максимального значения в каждом элементе\n",
        "mapped_values = map(MAP, [record])\n",
        "\n",
        "# Выполнение Reduce: нахождение максимального значения среди всех элементов\n",
        "result = reduce(REDUCE, mapped_values)\n",
        "\n",
        "print(\"Max value:\", result)"
      ],
      "execution_count": 4,
      "outputs": [
        {
          "output_type": "stream",
          "name": "stdout",
          "text": [
            "Record: [70, 99, 40, 42, 1, 9, 40, 89, 73, 91]\n",
            "Max value: 99\n"
          ]
        }
      ]
    },
    {
      "cell_type": "markdown",
      "metadata": {
        "id": "k86bXnqZTk-U"
      },
      "source": [
        "### Арифметическое среднее\n",
        "\n",
        "Разработайте MapReduce алгоритм, который находит арифметическое среднее.\n",
        "\n",
        "$$\\overline{X} = \\frac{1}{n}\\sum_{i=0}^{n} x_i$$\n"
      ]
    },
    {
      "cell_type": "code",
      "metadata": {
        "id": "MPoY5pkfUNZf",
        "colab": {
          "base_uri": "https://localhost:8080/"
        },
        "outputId": "9abf008a-5896-4cf7-df22-dfea59ed7e89"
      },
      "source": [
        "import random\n",
        "from functools import reduce\n",
        "from typing import List, Iterator, Tuple\n",
        "\n",
        "def MAP(num: int) -> Tuple[int, int]:\n",
        "    return (1, num)\n",
        "\n",
        "def REDUCE(key: int, nums: Iterator[Tuple[int, int]]) -> float:\n",
        "    total_sum = 0\n",
        "    count = 0\n",
        "    for _, n in nums:  # Перебираем только значения, пропуская ключи\n",
        "        total_sum += n\n",
        "        count += 1\n",
        "    yield total_sum / count if count else 0\n",
        "\n",
        "def RECORDREADER(count: int) -> List[int]:\n",
        "    return [random.randint(0, 100) for _ in range(count)]\n",
        "\n",
        "# Генерация списка случайных чисел\n",
        "record = RECORDREADER(10)\n",
        "print(\"Record:\", record)\n",
        "\n",
        "# Применение функции MAP к результату функции RECORDREADER\n",
        "map_output = list(map(MAP, record))\n",
        "print(\"MAP output:\", map_output)\n",
        "\n",
        "# Применение функции REDUCE к результату группировки\n",
        "reduce_output = list(REDUCE(1, map_output))  # Группируем по фиктивному ключу 1\n",
        "print(\"Reduce output:\", reduce_output[0])"
      ],
      "execution_count": 7,
      "outputs": [
        {
          "output_type": "stream",
          "name": "stdout",
          "text": [
            "Record: [2, 59, 91, 42, 65, 14, 55, 47, 43, 46]\n",
            "MAP output: [(1, 2), (1, 59), (1, 91), (1, 42), (1, 65), (1, 14), (1, 55), (1, 47), (1, 43), (1, 46)]\n",
            "Reduce output: 46.4\n"
          ]
        }
      ]
    },
    {
      "cell_type": "markdown",
      "metadata": {
        "id": "xanzszhsIlLe"
      },
      "source": [
        "### GroupByKey на основе сортировки\n",
        "\n",
        "Реализуйте groupByKey на основе сортировки, проверьте его работу на примерах"
      ]
    },
    {
      "cell_type": "code",
      "metadata": {
        "id": "hQPn3USsIkEC",
        "colab": {
          "base_uri": "https://localhost:8080/",
          "height": 86
        },
        "outputId": "5ab2efed-bd2e-4a98-9f3d-79e0edd9b687"
      },
      "source": [
        "import random\n",
        "from functools import reduce\n",
        "from typing import List, Iterator, Tuple\n",
        "\n",
        "def MAP(num: int) -> Tuple[int, int]:\n",
        "    \"\"\"\n",
        "    Функция MAP для создания пары ключ-значение.\n",
        "    Ключ равен num % 2, а значение — это входное число.\n",
        "    \"\"\"\n",
        "    return (num % 2, num)\n",
        "\n",
        "def REDUCE(key: int, nums: Iterator[int]) -> float:\n",
        "    \"\"\"\n",
        "    Функция REDUCE для вычисления среднего значения из итератора чисел.\n",
        "    \"\"\"\n",
        "    total_sum = 0\n",
        "    count = 0\n",
        "    for n in nums:\n",
        "        total_sum += n\n",
        "        count += 1\n",
        "    return total_sum / count if count else 0\n",
        "\n",
        "def RECORDREADER(count: int) -> List[int]:\n",
        "    \"\"\"\n",
        "    Функция для генерации случайных чисел в диапазоне от 0 до 100.\n",
        "    \"\"\"\n",
        "    return [random.randint(0, 100) for _ in range(count)]\n",
        "\n",
        "def group_by_key(iterable: List[Tuple[int, int]]):\n",
        "    \"\"\"\n",
        "    Группирует данные по ключу (первый элемент пары) и возвращает список кортежей.\n",
        "    \"\"\"\n",
        "    grouped_data = {}\n",
        "    for key, value in iterable:\n",
        "        grouped_data.setdefault(key, []).append(value)\n",
        "    return list(grouped_data.items())\n",
        "\n",
        "# Генерация списка случайных чисел\n",
        "record = RECORDREADER(10)\n",
        "print(\"Record:\", record)\n",
        "\n",
        "# Применение функции MAP к результату функции RECORDREADER\n",
        "map_output = list(map(MAP, record))\n",
        "print(\"MAP output:\", map_output)\n",
        "\n",
        "# Группировка по ключу и преобразование в список\n",
        "shuffle_output = group_by_key(map_output)\n",
        "print(\"Shuffle output:\", shuffle_output)\n",
        "\n",
        "# Применение функции REDUCE к результату группировки\n",
        "reduce_output = [REDUCE(key, values) for key, values in shuffle_output]\n",
        "\n",
        "print(\"Reduce output:\", reduce_output)"
      ],
      "execution_count": null,
      "outputs": [
        {
          "output_type": "display_data",
          "data": {
            "text/plain": [
              "<IPython.core.display.HTML object>"
            ],
            "text/html": [
              "\n",
              "  <style>\n",
              "    pre {\n",
              "        white-space: pre-wrap;\n",
              "    }\n",
              "  </style>\n",
              "  "
            ]
          },
          "metadata": {}
        },
        {
          "output_type": "stream",
          "name": "stdout",
          "text": [
            "Record: [8, 44, 53, 71, 17, 43, 73, 8, 33, 6]\n",
            "MAP output: [(0, 8), (0, 44), (1, 53), (1, 71), (1, 17), (1, 43), (1, 73), (0, 8), (1, 33), (0, 6)]\n",
            "Shuffle output: [(0, [8, 44, 8, 6]), (1, [53, 71, 17, 43, 73, 33])]\n",
            "Reduce output: [16.5, 48.333333333333336]\n"
          ]
        }
      ]
    },
    {
      "cell_type": "markdown",
      "metadata": {
        "id": "5SgEjCZyGnu6"
      },
      "source": [
        "### Drop duplicates (set construction, unique elements, distinct)\n",
        "\n",
        "Реализуйте распределённую операцию исключения дубликатов"
      ]
    },
    {
      "cell_type": "code",
      "metadata": {
        "id": "okjbyApjGhMt",
        "colab": {
          "base_uri": "https://localhost:8080/",
          "height": 52
        },
        "outputId": "f6124ffc-1579-44b4-a51d-a9e0fbc676c4"
      },
      "source": [
        "from typing import Iterator, List, Callable, Tuple, Optional\n",
        "from collections import defaultdict\n",
        "import numpy as np\n",
        "\n",
        "def flatten(nested_iterable: Iterator[Iterator]) -> Iterator:\n",
        "    \"\"\"\n",
        "    Функция для \"выравнивания\" вложенной структуры данных.\n",
        "    \"\"\"\n",
        "    for iterable in nested_iterable:\n",
        "        for element in iterable:\n",
        "            yield element\n",
        "\n",
        "def groupbykey(iterable: List[Tuple[int, str]]) -> List[Tuple[int, List[str]]]:\n",
        "    \"\"\"\n",
        "    Группировка данных по ключу.\n",
        "    \"\"\"\n",
        "    grouped_data = defaultdict(list)\n",
        "    for key, value in iterable:\n",
        "        grouped_data[key].append(value)\n",
        "    return list(grouped_data.items())\n",
        "\n",
        "def groupbykey_distributed(map_partitions: Iterator[Iterator[Tuple[int, str]]],\n",
        "                           PARTITIONER: Callable[[str], int]\n",
        "                           ) -> List[Tuple[int, List[Tuple[int, str]]]]:\n",
        "    \"\"\"\n",
        "    Распределенная группировка данных по ключу.\n",
        "    \"\"\"\n",
        "    global reducers\n",
        "    partitions = [dict() for _ in range(reducers)]  # Инициализация разделов\n",
        "    for map_partition in map_partitions:  # Для каждого раздела данных после Map\n",
        "        for key, value in map_partition:\n",
        "            p = partitions[PARTITIONER(key)]  # Определяем раздел с помощью PARTITIONER\n",
        "            p.setdefault(key, []).append(value)  # Добавляем данные в соответствующий раздел\n",
        "    return [(partition_id, sorted(partition.items(), key=lambda x: x[0])) for partition_id, partition in enumerate(partitions)]\n",
        "\n",
        "def PARTITIONER(obj: str) -> int:\n",
        "    \"\"\"\n",
        "    Функция для определения разделителя (партиционера).\n",
        "    \"\"\"\n",
        "    global reducers\n",
        "    return hash(obj) % reducers\n",
        "\n",
        "def MapReduceDistributed(INPUTFORMAT,\n",
        "                         MAP,\n",
        "                         REDUCE,\n",
        "                         PARTITIONER= PARTITIONER,\n",
        "                         COMBINER = None\n",
        "                         ):\n",
        "    \"\"\"\n",
        "    Функция для выполнения операций MapReduce в распределенном формате.\n",
        "    \"\"\"\n",
        "    # Применение Map к данным и выравнивание результатов\n",
        "    map_partitions = map(lambda record_reader: flatten(map(lambda k1v1: MAP(*k1v1), record_reader)), INPUTFORMAT())\n",
        "\n",
        "    # Если указан COMBINER, применяем его к результатам Map после группировки\n",
        "    if COMBINER is not None:\n",
        "        map_partitions = map(lambda map_partition: flatten(map(lambda k2v2: COMBINER(*k2v2), groupbykey(map_partition))), map_partitions)\n",
        "\n",
        "    # Выполнение распределенной группировки данных по ключу\n",
        "    reduce_partitions = groupbykey_distributed(map_partitions, PARTITIONER)\n",
        "\n",
        "    # Применение Reduce к каждой группе данных и выравнивание результатов\n",
        "    reduce_outputs = map(lambda reduce_partition: (reduce_partition[0], flatten(map(lambda reduce_input_group: REDUCE(*reduce_input_group), reduce_partition[1]))), reduce_partitions)\n",
        "\n",
        "    # Подсчет количества отправленных по сети ключ-значений\n",
        "    total_values_sent = sum([len(vs) for (k, vs) in flatten([partition for (partition_id, partition) in reduce_partitions])])\n",
        "\n",
        "    print(f\"{total_values_sent} key-value pairs were sent over a network.\")\n",
        "\n",
        "    return reduce_outputs\n",
        "\n",
        "def INPUTFORMAT() -> Iterator:\n",
        "    \"\"\"\n",
        "    Форматирование входных данных для MapReduce.\n",
        "    \"\"\"\n",
        "    global maps\n",
        "\n",
        "    def RECORDREADER(split: List[str]) -> Iterator[Tuple[str, str]]:\n",
        "        \"\"\"\n",
        "        Генерирует ключ-значение для каждой строки документа.\n",
        "        \"\"\"\n",
        "        for docid, document in enumerate(split):\n",
        "            for lineid, line in enumerate(document.split('\\n')):\n",
        "                yield (\"{}:{}\".format(docid, lineid), line)\n",
        "\n",
        "    # Разделяем документы на части для Map\n",
        "    split_size = int(np.ceil(len(documents) / maps))\n",
        "    for i in range(0, len(documents), split_size):\n",
        "        yield RECORDREADER(documents[i:i + split_size])\n",
        "\n",
        "def MAP(docId: str, line: str) -> Iterator[Tuple[str, str]]:\n",
        "    \"\"\"\n",
        "    Функция Map для преобразования данных.\n",
        "    \"\"\"\n",
        "    for word in line.split(\" \"):\n",
        "        yield (word, word)\n",
        "\n",
        "def REDUCE(key: str, value: Iterator[str]) -> Iterator[str]:\n",
        "    \"\"\"\n",
        "    Функция Reduce для агрегации данных.\n",
        "    \"\"\"\n",
        "    yield key\n",
        "\n",
        "# Задание корпуса текстов\n",
        "d1 = \"\"\"\n",
        "it is what it is\n",
        "it is what it is\n",
        "it is what it is\"\"\"\n",
        "d2 = \"\"\"\n",
        "what is it\n",
        "what is it\"\"\"\n",
        "d3 = \"\"\"\n",
        "it is a dog\"\"\"\n",
        "documents = [d1, d2, d3, d1, d2, d3]\n",
        "\n",
        "# Данные делятся на :maps частей и потом обрабатываются :reducers редьюсерами\n",
        "maps = 3\n",
        "reducers = 2\n",
        "\n",
        "# Выполнение MapReduce конвейера\n",
        "partitioned_output = MapReduceDistributed(INPUTFORMAT, MAP, REDUCE, COMBINER=None)\n",
        "partitioned_output = [(partition_id, list(partition)) for partition_id, partition in partitioned_output]\n",
        "print(partitioned_output)"
      ],
      "execution_count": null,
      "outputs": [
        {
          "output_type": "display_data",
          "data": {
            "text/plain": [
              "<IPython.core.display.HTML object>"
            ],
            "text/html": [
              "\n",
              "  <style>\n",
              "    pre {\n",
              "        white-space: pre-wrap;\n",
              "    }\n",
              "  </style>\n",
              "  "
            ]
          },
          "metadata": {}
        },
        {
          "output_type": "stream",
          "name": "stdout",
          "text": [
            "56 key-value pairs were sent over a network.\n",
            "[(0, ['', 'what']), (1, ['a', 'dog', 'is', 'it'])]\n"
          ]
        }
      ]
    },
    {
      "cell_type": "markdown",
      "metadata": {
        "id": "e7sRGoTXuJze"
      },
      "source": [
        "#Операторы реляционной алгебры\n",
        "\n",
        "\n"
      ]
    },
    {
      "cell_type": "markdown",
      "source": [
        "### Selection (Выборка)\n",
        "\n",
        "**The Map Function**: Для  каждого кортежа $t \\in R$ вычисляется истинность предиката $C$. В случае истины создаётся пара ключ-значение $(t, t)$. В паре ключ и значение одинаковы, равны $t$.\n",
        "\n",
        "**The Reduce Function:** Роль функции Reduce выполняет функция идентичности, которая возвращает то же значение, что получила на вход."
      ],
      "metadata": {
        "id": "sxL3N3UPUEB5"
      }
    },
    {
      "cell_type": "code",
      "metadata": {
        "id": "4nKIKe59uIfc",
        "colab": {
          "base_uri": "https://localhost:8080/",
          "height": 86
        },
        "outputId": "695c0d0b-154b-48cb-b6b7-c408f4c2f540"
      },
      "source": [
        "from collections import defaultdict\n",
        "import random\n",
        "from typing import List, Tuple, Callable\n",
        "\n",
        "\n",
        "def MAP(el_list, predicate):\n",
        "    \"\"\"\n",
        "    Реализует операцию MAP с настраиваемым предикатом для фильтрации кортежей.\n",
        "    \"\"\"\n",
        "    mapped_result = defaultdict(list)\n",
        "    for t in el_list:\n",
        "        if predicate(t):  # Используем переданный предикат\n",
        "            mapped_result[t].append(t)\n",
        "    return list(mapped_result.items())\n",
        "\n",
        "def REDUCE(mapped_items):\n",
        "    \"\"\"\n",
        "    Выполняет операцию REDUCE, которая возвращает все элементы, сгруппированные по ключу.\n",
        "    \"\"\"\n",
        "    reduced_result = []\n",
        "    print(mapped_items)  # Выводим промежуточный результат\n",
        "    for values in mapped_items:\n",
        "        for value in values:\n",
        "            reduced_result.append(value)  # Функция идентичности: возвращаем то же значение, что получили на вход\n",
        "    return reduced_result\n",
        "\n",
        "def C(t) -> bool:\n",
        "    \"\"\"\n",
        "    Предикат для фильтрации кортежей с четным первым элементом.\n",
        "    \"\"\"\n",
        "    return t[0] % 2 == 0\n",
        "\n",
        "def RECORDREADER(count):\n",
        "    \"\"\"\n",
        "    Генерация случайных записей (кортежей формата (x, y, z)).\n",
        "    \"\"\"\n",
        "    return [(random.randint(0, 100), random.randint(0, 100), random.randint(0, 100)) for _ in range(count)]\n",
        "\n",
        "# Создание набора записей\n",
        "record = RECORDREADER(5)\n",
        "print(record)\n",
        "\n",
        "# Разбиение записей на равные части\n",
        "part_count = 5\n",
        "record_partitioned = [record[d:d + part_count] for d in range(0, len(record), part_count)]\n",
        "print(record_partitioned)\n",
        "\n",
        "# Применение операции MAP и последующей REDUCE к разделенным записям\n",
        "print(REDUCE(list(map(lambda x: MAP(x, C), record_partitioned))))"
      ],
      "execution_count": null,
      "outputs": [
        {
          "output_type": "display_data",
          "data": {
            "text/plain": [
              "<IPython.core.display.HTML object>"
            ],
            "text/html": [
              "\n",
              "  <style>\n",
              "    pre {\n",
              "        white-space: pre-wrap;\n",
              "    }\n",
              "  </style>\n",
              "  "
            ]
          },
          "metadata": {}
        },
        {
          "output_type": "stream",
          "name": "stdout",
          "text": [
            "[(88, 22, 37), (66, 55, 37), (24, 77, 64), (42, 68, 57), (83, 52, 99)]\n",
            "[[(88, 22, 37), (66, 55, 37), (24, 77, 64), (42, 68, 57), (83, 52, 99)]]\n",
            "[[((88, 22, 37), [(88, 22, 37)]), ((66, 55, 37), [(66, 55, 37)]), ((24, 77, 64), [(24, 77, 64)]), ((42, 68, 57), [(42, 68, 57)])]]\n",
            "[((88, 22, 37), [(88, 22, 37)]), ((66, 55, 37), [(66, 55, 37)]), ((24, 77, 64), [(24, 77, 64)]), ((42, 68, 57), [(42, 68, 57)])]\n"
          ]
        }
      ]
    },
    {
      "cell_type": "markdown",
      "metadata": {
        "id": "w27Ca-_Ku85V"
      },
      "source": [
        "### Projection (Проекция)\n",
        "\n",
        "Проекция на множество атрибутов $S$.\n",
        "\n",
        "**The Map Function:** Для каждого кортежа $t \\in R$ создайте кортеж $t′$, исключая  из $t$ те значения, атрибуты которых не принадлежат  $S$. Верните пару $(t′, t′)$.\n",
        "\n",
        "**The Reduce Function:** Для каждого ключа $t′$, созданного любой Map задачей, вы получаете одну или несколько пар $(t′, t′)$. Reduce функция преобразует $(t′, [t′, t′, . . . , t′])$ в $(t′, t′)$, так, что для ключа $t′$ возвращается одна пара  $(t′, t′)$."
      ]
    },
    {
      "cell_type": "code",
      "metadata": {
        "id": "BEvuY4GqvhS6",
        "colab": {
          "base_uri": "https://localhost:8080/",
          "height": 69
        },
        "outputId": "1230090d-a301-4cdf-db65-52bb31a73f77"
      },
      "source": [
        "import random\n",
        "from typing import Iterator, NamedTuple\n",
        "\n",
        "# Создаем множество S, содержащее выбранные числа для фильтрации\n",
        "S = set([25, 90, 69])  # Множество S используется для проверки наличия элементов\n",
        "\n",
        "def MAP(t):\n",
        "    \"\"\"\n",
        "    Функция MAP принимает кортеж чисел и фильтрует его, оставляя только элементы, присутствующие в множестве S.\n",
        "    Возвращает кортеж, состоящий из двух одинаковых копий отфильтрованного набора элементов.\n",
        "    \"\"\"\n",
        "    res_list = []\n",
        "    for el in t:  # Перебираем элементы входного кортежа t\n",
        "        if el in S:  # Проверяем, содержится ли элемент el в множестве S\n",
        "            res_list.append(el)\n",
        "    res = tuple(res_list)  # Преобразуем список в кортеж для неизменяемости\n",
        "    return (res, res)\n",
        "\n",
        "def REDUCE(key, values: Iterator[NamedTuple]):\n",
        "    \"\"\"\n",
        "    Функция REDUCE принимает ключ и итерируемый объект значений, и проводит операцию редукции.\n",
        "    В данной реализации возвращается кортеж, где и ключ, и значение равны переданному ключу.\n",
        "    \"\"\"\n",
        "    return (key, key)\n",
        "\n",
        "def RECORDREADER(count):\n",
        "    \"\"\"\n",
        "    Функция RECORDREADER генерирует список записей, каждая из которых представляет собой кортеж из трех случайных чисел.\n",
        "    Используется для создания тестовых данных, где параметр count определяет количество генерируемых записей.\n",
        "    \"\"\"\n",
        "    return [(random.randint(0, 100), random.randint(0, 100), random.randint(0, 100)) for i in range(count)]\n",
        "\n",
        "def group_by_key(iterable):\n",
        "    \"\"\"\n",
        "    Функция group_by_key группирует элементы входного итерируемого объекта по ключу.\n",
        "    Каждый элемент итерируемого объекта должен быть кортежем (ключ, значение), и функция возвращает пары, где каждому ключу соответствует список значений.\n",
        "    \"\"\"\n",
        "    t = {}\n",
        "    for (k2, v2) in iterable:\n",
        "        t[k2] = t.get(k2, []) + [v2]\n",
        "    return t.items()\n",
        "\n",
        "# Применяем функцию MAP ко всем элементам, сгенерированным функцией RECORDREADER(100)\n",
        "map_output = list(map(lambda x: MAP(x), RECORDREADER(10)))\n",
        "print(\"MAP output:\", map_output)\n",
        "\n",
        "# Группируем значения по ключу, используя функцию group_by_key\n",
        "shuffle_output = group_by_key(map_output)\n",
        "shuffle_output = list(shuffle_output)\n",
        "print(\"Shuffle output:\", shuffle_output)\n",
        "\n",
        "# Применяем функцию REDUCE к результату группировки, извлекая из возвращаемого кортежа первый элемент\n",
        "reduce_output = list(map(lambda x: REDUCE(*x)[0], shuffle_output))\n",
        "print(\"Reduce output:\", reduce_output)"
      ],
      "execution_count": null,
      "outputs": [
        {
          "output_type": "display_data",
          "data": {
            "text/plain": [
              "<IPython.core.display.HTML object>"
            ],
            "text/html": [
              "\n",
              "  <style>\n",
              "    pre {\n",
              "        white-space: pre-wrap;\n",
              "    }\n",
              "  </style>\n",
              "  "
            ]
          },
          "metadata": {}
        },
        {
          "output_type": "stream",
          "name": "stdout",
          "text": [
            "MAP output: [((), ()), ((), ()), ((), ()), ((), ()), ((), ()), ((), ()), ((), ()), ((), ()), ((), ()), ((), ())]\n",
            "Shuffle output: [((), [(), (), (), (), (), (), (), (), (), ()])]\n",
            "Reduce output: [()]\n"
          ]
        }
      ]
    },
    {
      "cell_type": "markdown",
      "metadata": {
        "id": "7gau6lKXvn2R"
      },
      "source": [
        "### Union (Объединение)\n",
        "\n",
        "**The Map Function:** Превратите каждый входной кортеж $t$ в пару ключ-значение $(t, t)$.\n",
        "\n",
        "**The Reduce Function:** С каждым ключом $t$ будет ассоциировано одно или два значений. В обоих случаях создайте $(t, t)$ в качестве выходного значения."
      ]
    },
    {
      "cell_type": "code",
      "metadata": {
        "id": "Sns7a5agv3nw",
        "colab": {
          "base_uri": "https://localhost:8080/",
          "height": 121
        },
        "outputId": "61968880-d862-49b4-dfc7-a80751a9049d"
      },
      "source": [
        "import random\n",
        "from typing import Iterator, NamedTuple\n",
        "\n",
        "def MAP(t):\n",
        "    \"\"\"\n",
        "    Функция MAP принимает элемент t и возвращает кортеж, содержащий этот элемент дважды.\n",
        "    Используется для подготовки данных к дальнейшей обработке.\n",
        "    \"\"\"\n",
        "    return (t, t)  # Возвращаем кортеж из входного элемента и его же копии\n",
        "\n",
        "def REDUCE(key, values: Iterator[NamedTuple]):\n",
        "    \"\"\"\n",
        "    Функция REDUCE принимает ключ и список значений, связанных с этим ключом.\n",
        "    В данной реализации просто возвращает кортеж, содержащий ключ дважды.\n",
        "    \"\"\"\n",
        "    return (key, key)  # Возвращает кортеж с ключом и значением, равными переданному ключу\n",
        "\n",
        "def RECORDREADER(count):\n",
        "    \"\"\"\n",
        "    Функция RECORDREADER генерирует список случайных записей.\n",
        "    Каждая запись представляет собой кортеж из трех случайных чисел в диапазоне от 0 до 100.\n",
        "    \"\"\"\n",
        "    return [(random.randint(0, 100), random.randint(0, 100), random.randint(0, 100)) for _ in range(count)]\n",
        "\n",
        "def group_by_key(iterable):\n",
        "    \"\"\"\n",
        "    Функция group_by_key группирует элементы входного итерируемого объекта по ключу.\n",
        "    Ожидает, что элементы представлены в виде кортежей (ключ, значение).\n",
        "    Возвращает пары (ключ, список значений).\n",
        "    \"\"\"\n",
        "    t = {}  # Инициализируем словарь для группировки данных\n",
        "    for (k2, v2) in iterable:  # Перебираем пары (ключ, значение)\n",
        "        t[k2] = t.get(k2, []) + [v2]  # Добавляем значение в список, соответствующий ключу\n",
        "    return t.items()  # Возвращаем сгруппированные данные в виде пар (ключ, список значений)\n",
        "\n",
        "\n",
        "# Применяем функцию MAP к 10 сгенерированным записям\n",
        "map_output = list(map(lambda x: MAP(x), RECORDREADER(10)))\n",
        "print(\"MAP output:\", map_output)\n",
        "\n",
        "# Группируем данные по ключу\n",
        "shuffle_output = group_by_key(map_output)\n",
        "shuffle_output = list(shuffle_output)\n",
        "print(\"Shuffle output:\", shuffle_output)\n",
        "\n",
        "# Применяем REDUCE к сгруппированным данным\n",
        "reduce_output = list(map(lambda x: REDUCE(*x)[0], shuffle_output))\n",
        "print(\"Reduce output:\", reduce_output)"
      ],
      "execution_count": null,
      "outputs": [
        {
          "output_type": "display_data",
          "data": {
            "text/plain": [
              "<IPython.core.display.HTML object>"
            ],
            "text/html": [
              "\n",
              "  <style>\n",
              "    pre {\n",
              "        white-space: pre-wrap;\n",
              "    }\n",
              "  </style>\n",
              "  "
            ]
          },
          "metadata": {}
        },
        {
          "output_type": "stream",
          "name": "stdout",
          "text": [
            "MAP output: [((88, 64, 8), (88, 64, 8)), ((80, 55, 29), (80, 55, 29)), ((19, 50, 98), (19, 50, 98)), ((64, 87, 63), (64, 87, 63)), ((26, 39, 2), (26, 39, 2)), ((32, 87, 70), (32, 87, 70)), ((47, 99, 55), (47, 99, 55)), ((70, 86, 88), (70, 86, 88)), ((12, 54, 1), (12, 54, 1)), ((17, 64, 90), (17, 64, 90))]\n",
            "Shuffle output: [((88, 64, 8), [(88, 64, 8)]), ((80, 55, 29), [(80, 55, 29)]), ((19, 50, 98), [(19, 50, 98)]), ((64, 87, 63), [(64, 87, 63)]), ((26, 39, 2), [(26, 39, 2)]), ((32, 87, 70), [(32, 87, 70)]), ((47, 99, 55), [(47, 99, 55)]), ((70, 86, 88), [(70, 86, 88)]), ((12, 54, 1), [(12, 54, 1)]), ((17, 64, 90), [(17, 64, 90)])]\n",
            "Reduce output: [(88, 64, 8), (80, 55, 29), (19, 50, 98), (64, 87, 63), (26, 39, 2), (32, 87, 70), (47, 99, 55), (70, 86, 88), (12, 54, 1), (17, 64, 90)]\n"
          ]
        }
      ]
    },
    {
      "cell_type": "markdown",
      "metadata": {
        "id": "dQ8TuEbjv4J8"
      },
      "source": [
        "### Intersection (Пересечение)\n",
        "\n",
        "**The Map Function:** Превратите каждый кортеж $t$ в пары ключ-значение $(t, t)$.\n",
        "\n",
        "**The Reduce Function:** Если для ключа $t$ есть список из двух элементов $[t, t]$ $-$ создайте пару $(t, t)$. Иначе, ничего не создавайте."
      ]
    },
    {
      "cell_type": "code",
      "metadata": {
        "id": "XKlBZh4IwERR",
        "colab": {
          "base_uri": "https://localhost:8080/",
          "height": 104
        },
        "outputId": "ff232a23-827d-41af-a678-28fa925ab6f2"
      },
      "source": [
        "import random\n",
        "from typing import Iterator, NamedTuple\n",
        "\n",
        "def MAP(t):\n",
        "    \"\"\"\n",
        "    Функция MAP принимает элемент t и возвращает кортеж, содержащий этот элемент дважды.\n",
        "    Используется для подготовки данных к дальнейшей обработке.\n",
        "    \"\"\"\n",
        "    return (t, t)  # Возвращаем кортеж из входного элемента и его же копии\n",
        "\n",
        "def REDUCE(key, values: Iterator[NamedTuple]):\n",
        "    \"\"\"\n",
        "    Функция REDUCE принимает ключ и список значений, связанных с этим ключом.\n",
        "    Если количество значений равно 2, возвращает кортеж, содержащий ключ дважды.\n",
        "    \"\"\"\n",
        "    if len(values) == 2:\n",
        "        return (key, key)  # Возвращаем кортеж с ключом и значением, равными переданному ключу\n",
        "\n",
        "def RECORDREADER(count):\n",
        "    \"\"\"\n",
        "    Функция RECORDREADER генерирует список случайных записей.\n",
        "    Каждая запись представляет собой кортеж из двух случайных чисел в диапазоне от 0 до 3.\n",
        "    \"\"\"\n",
        "    return [(random.randint(0, 3), random.randint(0, 3)) for _ in range(count)]\n",
        "\n",
        "def group_by_key(iterable):\n",
        "    \"\"\"\n",
        "    Функция group_by_key группирует элементы входного итерируемого объекта по ключу.\n",
        "    Ожидает, что элементы представлены в виде кортежей (ключ, значение).\n",
        "    Возвращает пары (ключ, список значений).\n",
        "    \"\"\"\n",
        "    t = {}  # Инициализируем словарь для группировки данных\n",
        "    for (k2, v2) in iterable:  # Перебираем пары (ключ, значение)\n",
        "        t[k2] = t.get(k2, []) + [v2]  # Добавляем значение в список, соответствующий ключу\n",
        "    return t.items()  # Возвращаем сгруппированные данные в виде пар (ключ, список значений)\n",
        "\n",
        "# Применяем функцию MAP к 100 сгенерированным записям\n",
        "map_output = list(map(lambda x: MAP(x), RECORDREADER(10)))\n",
        "print(\"MAP output:\", map_output)\n",
        "\n",
        "# Группируем данные по ключу\n",
        "shuffle_output = group_by_key(map_output)\n",
        "shuffle_output = list(shuffle_output)\n",
        "print(\"Shuffle output:\", shuffle_output)\n",
        "\n",
        "# Применяем REDUCE к сгруппированным данным и фильтруем None\n",
        "reduce_output = [el[0] for el in list(map(lambda x: REDUCE(*x), shuffle_output)) if el is not None]\n",
        "print(\"Reduce output:\", reduce_output)"
      ],
      "execution_count": null,
      "outputs": [
        {
          "output_type": "display_data",
          "data": {
            "text/plain": [
              "<IPython.core.display.HTML object>"
            ],
            "text/html": [
              "\n",
              "  <style>\n",
              "    pre {\n",
              "        white-space: pre-wrap;\n",
              "    }\n",
              "  </style>\n",
              "  "
            ]
          },
          "metadata": {}
        },
        {
          "output_type": "stream",
          "name": "stdout",
          "text": [
            "MAP output: [((1, 3), (1, 3)), ((2, 0), (2, 0)), ((1, 0), (1, 0)), ((3, 3), (3, 3)), ((1, 1), (1, 1)), ((2, 2), (2, 2)), ((2, 2), (2, 2)), ((2, 1), (2, 1)), ((1, 0), (1, 0)), ((2, 2), (2, 2))]\n",
            "Shuffle output: [((1, 3), [(1, 3)]), ((2, 0), [(2, 0)]), ((1, 0), [(1, 0), (1, 0)]), ((3, 3), [(3, 3)]), ((1, 1), [(1, 1)]), ((2, 2), [(2, 2), (2, 2), (2, 2)]), ((2, 1), [(2, 1)])]\n",
            "Reduce output: [(1, 0)]\n"
          ]
        }
      ]
    },
    {
      "cell_type": "markdown",
      "metadata": {
        "id": "AVOpqoY3wE5k"
      },
      "source": [
        "### Difference (Разница)\n",
        "\n",
        "**The Map Function:** Для кортежа $t \\in R$, создайте пару $(t, R)$, и для кортежа $t \\in S$, создайте пару $(t, S)$. Задумка заключается в том, чтобы значение пары было именем отношения $R$ or $S$, которому принадлежит кортеж (а лучше, единичный бит, по которому можно два отношения различить $R$ or $S$), а не весь набор атрибутов отношения.\n",
        "\n",
        "**The Reduce Function:** Для каждого ключа $t$, если соответствующее значение является списком $[R]$, создайте пару $(t, t)$. В иных случаях не предпринимайте действий."
      ]
    },
    {
      "cell_type": "code",
      "metadata": {
        "id": "QE_AC09lwZIZ",
        "colab": {
          "base_uri": "https://localhost:8080/",
          "height": 121
        },
        "outputId": "90e2eb97-e455-4ecc-83d8-8d192c149035"
      },
      "source": [
        "import random\n",
        "from typing import Iterator, NamedTuple\n",
        "\n",
        "rels = [1, 2]  # Массив возможных идентификаторов представления\n",
        "\n",
        "class Tuple:\n",
        "    \"\"\"\n",
        "    Класс Tuple представляет объект с данными и идентификатором представления.\n",
        "    \"\"\"\n",
        "    def __init__(self, data: tuple, rel_id: int):\n",
        "        self.data = data  # Хранит кортеж данных\n",
        "        self.rel_id = rel_id  # Хранит id представления\n",
        "\n",
        "def get_random_tuple(count):\n",
        "    \"\"\"\n",
        "    Генерирует объект Tuple с случайными данными.\n",
        "    \"\"\"\n",
        "    data = tuple((random.randint(0, 3), random.randint(0, 3)) for _ in range(count))\n",
        "    rel_id = random.choice(rels)  # Выбираем случайный id представления\n",
        "    return Tuple(data, rel_id)\n",
        "\n",
        "def RECORDREADER(count):\n",
        "    \"\"\"\n",
        "    Генерирует список случайных объектов Tuple.\n",
        "    \"\"\"\n",
        "    return [get_random_tuple(3) for _ in range(count)]\n",
        "\n",
        "def MAP(t: Tuple):\n",
        "    \"\"\"\n",
        "    Функция MAP принимает объект Tuple и возвращает кортеж из данных и идентификатора представления.\n",
        "    \"\"\"\n",
        "    return (t.data, t.rel_id)\n",
        "\n",
        "def REDUCE(key, values: Iterator[int]):\n",
        "    \"\"\"\n",
        "    Функция REDUCE принимает ключ и список значений.\n",
        "    Если список содержит только первый элемент из rels, возвращает кортеж (ключ, ключ).\n",
        "    \"\"\"\n",
        "    if list(values) == [rels[0]]:  # Проверяем, что значения соответствуют первому элементу из rels\n",
        "        return (key, key)\n",
        "\n",
        "def group_by_key(iterable):\n",
        "    \"\"\"\n",
        "    Функция группирует элементы входного итерируемого объекта по ключу.\n",
        "    \"\"\"\n",
        "    t = {}\n",
        "    for (k2, v2) in iterable:\n",
        "        t.setdefault(k2, []).append(v2)\n",
        "    return t.items()\n",
        "\n",
        "# Применяем MAP к данным\n",
        "map_output = list(map(lambda x: MAP(x), RECORDREADER(10)))\n",
        "print(\"MAP output:\", map_output)\n",
        "\n",
        "# Группируем результаты по ключу\n",
        "shuffle_output = list(group_by_key(map_output))\n",
        "print(\"Shuffle output:\", shuffle_output)\n",
        "\n",
        "# Применяем REDUCE к сгруппированным данным и фильтруем None\n",
        "reduce_output = [el[0] for el in map(lambda x: REDUCE(*x), shuffle_output) if el is not None]\n",
        "print(\"Reduce output:\", reduce_output)"
      ],
      "execution_count": null,
      "outputs": [
        {
          "output_type": "display_data",
          "data": {
            "text/plain": [
              "<IPython.core.display.HTML object>"
            ],
            "text/html": [
              "\n",
              "  <style>\n",
              "    pre {\n",
              "        white-space: pre-wrap;\n",
              "    }\n",
              "  </style>\n",
              "  "
            ]
          },
          "metadata": {}
        },
        {
          "output_type": "stream",
          "name": "stdout",
          "text": [
            "MAP output: [(((3, 3), (1, 2), (0, 0)), 2), (((0, 2), (2, 0), (1, 3)), 1), (((1, 3), (1, 0), (1, 2)), 2), (((2, 0), (2, 0), (2, 3)), 2), (((1, 0), (0, 0), (1, 1)), 2), (((1, 0), (3, 1), (2, 0)), 1), (((3, 3), (2, 3), (1, 3)), 2), (((0, 2), (0, 0), (2, 1)), 1), (((0, 1), (2, 3), (2, 3)), 1), (((2, 3), (0, 2), (3, 2)), 1)]\n",
            "Shuffle output: [(((3, 3), (1, 2), (0, 0)), [2]), (((0, 2), (2, 0), (1, 3)), [1]), (((1, 3), (1, 0), (1, 2)), [2]), (((2, 0), (2, 0), (2, 3)), [2]), (((1, 0), (0, 0), (1, 1)), [2]), (((1, 0), (3, 1), (2, 0)), [1]), (((3, 3), (2, 3), (1, 3)), [2]), (((0, 2), (0, 0), (2, 1)), [1]), (((0, 1), (2, 3), (2, 3)), [1]), (((2, 3), (0, 2), (3, 2)), [1])]\n",
            "Reduce output: [((0, 2), (2, 0), (1, 3)), ((1, 0), (3, 1), (2, 0)), ((0, 2), (0, 0), (2, 1)), ((0, 1), (2, 3), (2, 3)), ((2, 3), (0, 2), (3, 2))]\n"
          ]
        }
      ]
    },
    {
      "cell_type": "markdown",
      "metadata": {
        "id": "j8I58V2VwhSm"
      },
      "source": [
        "### Natural Join\n",
        "\n",
        "**The Map Function:** Для каждого кортежа $(a, b)$ отношения $R$, создайте пару $(b,(R, a))$. Для каждого кортежа $(b, c)$ отношения $S$, создайте пару $(b,(S, c))$.\n",
        "\n",
        "**The Reduce Function:** Каждый ключ $b$ будет асоциирован со списком пар, которые принимают форму либо $(R, a)$, либо $(S, c)$. Создайте все пары, одни, состоящие из  первого компонента $R$, а другие, из первого компонента $S$, то есть $(R, a)$ и $(S, c)$. На выходе вы получаете последовательность пар ключ-значение из списков ключей и значений. Ключ не нужен. Каждое значение, это тройка $(a, b, c)$ такая, что $(R, a)$ и $(S, c)$ это принадлежат входному списку значений."
      ]
    },
    {
      "cell_type": "code",
      "metadata": {
        "id": "yHiuuTctw86I",
        "colab": {
          "base_uri": "https://localhost:8080/",
          "height": 69
        },
        "outputId": "9339b679-ffe5-4e3c-e29d-bbf01823cbca"
      },
      "source": [
        "import random\n",
        "from typing import Iterator, NamedTuple\n",
        "\n",
        "rels = [1, 2]  # Инициализация списка идентификаторов связей\n",
        "\n",
        "class Tuple:\n",
        "    \"\"\"\n",
        "    Класс для хранения данных и идентификатора связи.\n",
        "    \"\"\"\n",
        "    def __init__(self, data: tuple, rel_id: int):\n",
        "        self.data = data  # Кортеж данных (x, y)\n",
        "        self.rel_id = rel_id  # Идентификатор связи\n",
        "\n",
        "def get_random_tuple():\n",
        "    \"\"\"\n",
        "    Генерация случайного кортежа с данными и идентификатором связи.\n",
        "    \"\"\"\n",
        "    data = (random.randint(0, 3), random.randint(0, 3))  # Генерируем случайный кортеж (x, y)\n",
        "    rel_id = random.choice(rels)  # Случайный идентификатор связи\n",
        "    return Tuple(data, rel_id)  # Возвращаем объект Tuple\n",
        "\n",
        "def RECORDREADER(count):\n",
        "    \"\"\"\n",
        "    Создание списка случайных кортежей заданного количества.\n",
        "    \"\"\"\n",
        "    return [get_random_tuple() for _ in range(count)]  # Генерация списка объектов Tuple\n",
        "\n",
        "def MAP(t: Tuple):\n",
        "    \"\"\"\n",
        "    Преобразование данных кортежа в зависимости от идентификатора связи.\n",
        "    \"\"\"\n",
        "    if t.rel_id == rels[0]:  # Если rel_id совпадает с первым значением в rels\n",
        "        return (t.data[1], (t.rel_id, t.data[0]))  # Меняем порядок элементов\n",
        "    else:\n",
        "        return (t.data[0], (t.rel_id, t.data[1]))  # Меняем порядок по другому условию\n",
        "\n",
        "def REDUCE(key, values: Iterator[NamedTuple]):\n",
        "    \"\"\"\n",
        "    Объединение данных по ключу.\n",
        "    \"\"\"\n",
        "    res = []\n",
        "    for v in values:\n",
        "        res.append((v[0], key, v[1]))  # Создаем новый список значений\n",
        "    return res\n",
        "\n",
        "def group_by_key(iterable):\n",
        "    \"\"\"\n",
        "    Группировка данных по ключу.\n",
        "    \"\"\"\n",
        "    t = {}\n",
        "    for (k2, v2) in iterable:\n",
        "        t.setdefault(k2, []).append(v2)  # Добавляем значения в список по ключу\n",
        "    return t.items()\n",
        "\n",
        "# Применение функции MAP к каждому элементу списка\n",
        "map_output = list(map(lambda x: MAP(x), RECORDREADER(10)))\n",
        "print(\"MAP output:\", map_output)\n",
        "\n",
        "# Группировка данных по ключу\n",
        "shuffle_output = list(group_by_key(map_output))\n",
        "print(\"Shuffle output:\", shuffle_output)\n",
        "\n",
        "# Применение функции REDUCE к каждой группе\n",
        "reduce_output = list(map(lambda x: REDUCE(*x), shuffle_output))\n",
        "print(\"Reduce output:\", reduce_output)"
      ],
      "execution_count": null,
      "outputs": [
        {
          "output_type": "display_data",
          "data": {
            "text/plain": [
              "<IPython.core.display.HTML object>"
            ],
            "text/html": [
              "\n",
              "  <style>\n",
              "    pre {\n",
              "        white-space: pre-wrap;\n",
              "    }\n",
              "  </style>\n",
              "  "
            ]
          },
          "metadata": {}
        },
        {
          "output_type": "stream",
          "name": "stdout",
          "text": [
            "MAP output: [(1, (1, 3)), (2, (2, 2)), (0, (1, 3)), (0, (1, 3)), (1, (1, 2)), (2, (1, 0)), (1, (1, 3)), (3, (2, 0)), (3, (1, 3)), (1, (1, 0))]\n",
            "Shuffle output: [(1, [(1, 3), (1, 2), (1, 3), (1, 0)]), (2, [(2, 2), (1, 0)]), (0, [(1, 3), (1, 3)]), (3, [(2, 0), (1, 3)])]\n",
            "Reduce output: [[(1, 1, 3), (1, 1, 2), (1, 1, 3), (1, 1, 0)], [(2, 2, 2), (1, 2, 0)], [(1, 0, 3), (1, 0, 3)], [(2, 3, 0), (1, 3, 3)]]\n"
          ]
        }
      ]
    },
    {
      "cell_type": "markdown",
      "metadata": {
        "id": "kYdlr0YUxE27"
      },
      "source": [
        "### Grouping and Aggregation (Группировка и аггрегация)\n",
        "\n",
        "**The Map Function:** Для каждого кортежа $(a, b, c$) создайте пару $(a, b)$.\n",
        "\n",
        "**The Reduce Function:** Ключ представляет ту или иную группу. Примение аггрегирующую операцию $\\theta$ к списку значений $[b1, b2, . . . , bn]$ ассоциированных с ключом $a$. Возвращайте в выходной поток $(a, x)$, где $x$ результат применения  $\\theta$ к списку. Например, если $\\theta$ это $SUM$, тогда $x = b1 + b2 + · · · + bn$, а если $\\theta$ is $MAX$, тогда $x$ это максимальное из значений $b1, b2, . . . , bn$."
      ]
    },
    {
      "cell_type": "code",
      "metadata": {
        "id": "MLPckfEGxico",
        "colab": {
          "base_uri": "https://localhost:8080/",
          "height": 69
        },
        "outputId": "a48ca74d-0aa4-47ef-d11c-5bf62edb8bd8"
      },
      "source": [
        "import random\n",
        "from typing import Iterator, NamedTuple\n",
        "\n",
        "rels = [1, 2]  # Инициализация списка идентификаторов связей\n",
        "\n",
        "class Tuple:  # Определение класса кортежа, хранящего данные и идентификатор связи\n",
        "    def __init__(self, data: tuple, rel_id: int):\n",
        "        self.data = data\n",
        "        self.rel_id = rel_id\n",
        "\n",
        "def get_random_tuple():  # Функция для генерации случайного кортежа с тремя случайными значениями от 0 до 3\n",
        "    return (random.randint(0, 3), random.randint(0, 3), random.randint(0, 3))\n",
        "\n",
        "def RECORDREADER(count):  # Функция для создания списка случайных кортежей заданного количества\n",
        "    return [get_random_tuple() for i in range(count)]\n",
        "\n",
        "def MAP(t: tuple):  # Функция для преобразования входного кортежа, возвращающая первые два элемента кортежа\n",
        "    return (t[0], t[1])\n",
        "\n",
        "def tetta(values):  # Функция для вычисления суммы значений в переданном списке\n",
        "    return sum(values)\n",
        "\n",
        "def REDUCE(key, values: Iterator[NamedTuple]):  # Функция для вычисления суммы значений в переданных значениях и возврата пары (ключ, сумма)\n",
        "    x = tetta(values)\n",
        "    return (key, x)\n",
        "\n",
        "def group_by_key(iterable):  # Функция для группировки данных по ключу\n",
        "    t = {}\n",
        "    for (k2, v2) in iterable:\n",
        "        t[k2] = t.get(k2, []) + [v2]\n",
        "    return t.items()\n",
        "\n",
        "map_output = list(map(lambda x: MAP(x), RECORDREADER(10)))  # Применение функции MAP к каждому элементу\n",
        "print(\"MAP output:\", map_output)\n",
        "\n",
        "shuffle_output = group_by_key(map_output)  # Группировка данных по ключу\n",
        "shuffle_output = list(shuffle_output)\n",
        "print(\"Shuffle output:\", shuffle_output)\n",
        "\n",
        "reduce_output = list(map(lambda x: REDUCE(*x), shuffle_output))  # Применение функции REDUCE к каждой группе\n",
        "print(\"Reduce output:\", reduce_output)"
      ],
      "execution_count": null,
      "outputs": [
        {
          "output_type": "display_data",
          "data": {
            "text/plain": [
              "<IPython.core.display.HTML object>"
            ],
            "text/html": [
              "\n",
              "  <style>\n",
              "    pre {\n",
              "        white-space: pre-wrap;\n",
              "    }\n",
              "  </style>\n",
              "  "
            ]
          },
          "metadata": {}
        },
        {
          "output_type": "stream",
          "name": "stdout",
          "text": [
            "MAP output: [(3, 3), (0, 3), (0, 3), (0, 2), (2, 0), (3, 2), (2, 1), (0, 0), (2, 1), (0, 3)]\n",
            "Shuffle output: [(3, [3, 2]), (0, [3, 3, 2, 0, 3]), (2, [0, 1, 1])]\n",
            "Reduce output: [(3, 5), (0, 11), (2, 2)]\n"
          ]
        }
      ]
    },
    {
      "cell_type": "markdown",
      "metadata": {
        "id": "IIrRgvG4RIS4"
      },
      "source": [
        "### Matrix-Vector multiplication\n",
        "\n",
        "Случай, когда вектор не помещается в памяти Map задачи\n"
      ]
    },
    {
      "cell_type": "markdown",
      "metadata": {
        "id": "GIo2t7nNxvA9"
      },
      "source": [
        "## Matrix multiplication (Перемножение матриц)\n",
        "\n",
        "Если у нас есть матрица $M$ с элементами $m_{ij}$ в строке $i$ и столбце $j$, и матрица $N$ с элементами $n_{jk}$ в строке $j$ и столбце $k$, тогда их произведение $P = MN$ есть матрица $P$ с элементами $p_{ik}$ в строке $i$ и столбце $k$, где\n",
        "\n",
        "$$p_{ik} =\\sum_{j} m_{ij}n_{jk}$$\n",
        "\n",
        "Необходимым требованием является одинаковое количество столбцов в $M$ и строк в $N$, чтобы операция суммирования по  $j$ была осмысленной. Мы можем размышлять о матрице, как об отношении с тремя атрибутами: номер строки, номер столбца, само значение. Таким образом матрица $M$ предстваляется как отношение $ M(I, J, V )$, с кортежами $(i, j, m_{ij})$, и, аналогично, матрица $N$ представляется как отношение $N(J, K, W)$, с кортежами $(j, k, n_{jk})$. Так как большие матрицы как правило разреженные (большинство значений равно 0), и так как мы можем нулевыми значениями пренебречь (не хранить), такое реляционное представление достаточно эффективно для больших матриц. Однако, возможно, что координаты $i$, $j$, и $k$ неявно закодированы в смещение позиции элемента относительно начала файла, вместо явного хранения. Тогда, функция Map (или Reader) должна быть разработана таким образом, чтобы реконструировать компоненты $I$, $J$, и $K$ кортежей из смещения.\n",
        "\n",
        "Произведение $MN$ это фактически join, за которым следуют группировка по ключу и аггрегация. Таким образом join отношений $M(I, J, V )$ и $N(J, K, W)$, имеющих общим только атрибут $J$, создаст кортежи $(i, j, k, v, w)$ из каждого кортежа $(i, j, v) \\in M$ и кортежа $(j, k, w) \\in N$. Такой 5 компонентный кортеж представляет пару элементов матрицы $(m_{ij} , n_{jk})$. Что нам хотелось бы получить на самом деле, это произведение этих элементов, то есть, 4 компонентный кортеж$(i, j, k, v \\times w)$, так как он представляет произведение $m_{ij}n_{jk}$. Мы представляем отношение как результат одной MapReduce операции, в которой мы можем произвести группировку и аггрегацию, с $I$ и $K$  атрибутами, по которым идёт группировка, и суммой  $V \\times W$.\n",
        "\n",
        "\n",
        "\n"
      ]
    },
    {
      "cell_type": "code",
      "metadata": {
        "id": "1MBkGaLAYVCt",
        "colab": {
          "base_uri": "https://localhost:8080/",
          "height": 17
        },
        "outputId": "462c9780-d169-42eb-b49d-44f400b03398"
      },
      "source": [
        "# MapReduce model\n",
        "def flatten(nested_iterable):\n",
        "  for iterable in nested_iterable:\n",
        "    for element in iterable:\n",
        "      yield element\n",
        "\n",
        "def groupbykey(iterable):\n",
        "  t = {}\n",
        "  for (k2, v2) in iterable:\n",
        "    t[k2] = t.get(k2, []) + [v2]\n",
        "  return t.items()\n",
        "\n",
        "def MapReduce(RECORDREADER, MAP, REDUCE):\n",
        "  return flatten(map(lambda x: REDUCE(*x), groupbykey(flatten(map(lambda x: MAP(*x), RECORDREADER())))))"
      ],
      "execution_count": null,
      "outputs": [
        {
          "output_type": "display_data",
          "data": {
            "text/plain": [
              "<IPython.core.display.HTML object>"
            ],
            "text/html": [
              "\n",
              "  <style>\n",
              "    pre {\n",
              "        white-space: pre-wrap;\n",
              "    }\n",
              "  </style>\n",
              "  "
            ]
          },
          "metadata": {}
        }
      ]
    },
    {
      "cell_type": "markdown",
      "metadata": {
        "id": "sMspsOT0ZB35"
      },
      "source": [
        "Реализуйте перемножение матриц с использованием модельного кода MapReduce для одной машины в случае, когда одна матрица хранится в памяти, а другая генерируется RECORDREADER-ом."
      ]
    },
    {
      "cell_type": "code",
      "metadata": {
        "id": "psP1XekbsEjS"
      },
      "source": [
        "import numpy as np\n",
        "I = 2\n",
        "J = 3\n",
        "K = 4*10\n",
        "small_mat = np.random.rand(I,J) # it is legal to access this from RECORDREADER, MAP, REDUCE\n",
        "big_mat = np.random.rand(J,K)\n",
        "\n",
        "def RECORDREADER():\n",
        "  for j in range(big_mat.shape[0]):\n",
        "    for k in range(big_mat.shape[1]):\n",
        "      yield ((j, k), big_mat[j,k])\n",
        "\n",
        "def MAP(k1, v1):\n",
        "  (j, k) = k1\n",
        "  w = v1\n",
        "  for i in range(small_mat.shape[0]):\n",
        "    yield ((i, k), w * small_mat[i][j])\n",
        "\n",
        "def REDUCE(key, values):\n",
        "  (i, k) = key\n",
        "  el_value = 0\n",
        "  for v in values:\n",
        "    el_value += v\n",
        "  yield ((i, k), el_value)"
      ],
      "execution_count": 8,
      "outputs": []
    },
    {
      "cell_type": "markdown",
      "metadata": {
        "id": "rnt306LHhHrm"
      },
      "source": [
        "Проверьте своё решение"
      ]
    },
    {
      "cell_type": "code",
      "metadata": {
        "id": "Ewy_ZNYqW5a2",
        "colab": {
          "base_uri": "https://localhost:8080/",
          "height": 34
        },
        "outputId": "198364d5-c188-4f6d-ce36-4448b5077107"
      },
      "source": [
        "# CHECK THE SOLUTION\n",
        "reference_solution = np.matmul(small_mat, big_mat)\n",
        "solution = MapReduce(RECORDREADER, MAP, REDUCE)\n",
        "\n",
        "def asmatrix(reduce_output):\n",
        "  reduce_output = list(reduce_output)\n",
        "  I = max(i for ((i,k), vw) in reduce_output)+1\n",
        "  K = max(k for ((i,k), vw) in reduce_output)+1\n",
        "  mat = np.empty(shape=(I,K))\n",
        "  for ((i,k), vw) in reduce_output:\n",
        "    mat[i,k] = vw\n",
        "  return mat\n",
        "\n",
        "np.allclose(reference_solution, asmatrix(solution)) # should return true"
      ],
      "execution_count": null,
      "outputs": [
        {
          "output_type": "display_data",
          "data": {
            "text/plain": [
              "<IPython.core.display.HTML object>"
            ],
            "text/html": [
              "\n",
              "  <style>\n",
              "    pre {\n",
              "        white-space: pre-wrap;\n",
              "    }\n",
              "  </style>\n",
              "  "
            ]
          },
          "metadata": {}
        },
        {
          "output_type": "execute_result",
          "data": {
            "text/plain": [
              "True"
            ]
          },
          "metadata": {},
          "execution_count": 106
        }
      ]
    },
    {
      "cell_type": "code",
      "metadata": {
        "id": "TK7v4CEcfxqf",
        "colab": {
          "base_uri": "https://localhost:8080/",
          "height": 34
        },
        "outputId": "d8ae97bc-5907-4ed1-c3da-7e4654717a21"
      },
      "source": [
        "reduce_output = list(MapReduce(RECORDREADER, MAP, REDUCE))\n",
        "max(i for ((i,k), vw) in reduce_output)"
      ],
      "execution_count": null,
      "outputs": [
        {
          "output_type": "display_data",
          "data": {
            "text/plain": [
              "<IPython.core.display.HTML object>"
            ],
            "text/html": [
              "\n",
              "  <style>\n",
              "    pre {\n",
              "        white-space: pre-wrap;\n",
              "    }\n",
              "  </style>\n",
              "  "
            ]
          },
          "metadata": {}
        },
        {
          "output_type": "execute_result",
          "data": {
            "text/plain": [
              "1"
            ]
          },
          "metadata": {},
          "execution_count": 107
        }
      ]
    },
    {
      "cell_type": "markdown",
      "metadata": {
        "id": "i4yyg3kOZqJJ"
      },
      "source": [
        "Реализуйте перемножение матриц  с использованием модельного кода MapReduce для одной машины в случае, когда обе матрицы генерируются в RECORDREADER. Например, сначала одна, а потом другая."
      ]
    },
    {
      "cell_type": "code",
      "metadata": {
        "id": "3B7rIAJCaHZq",
        "colab": {
          "base_uri": "https://localhost:8080/",
          "height": 34
        },
        "outputId": "9aa4d1de-63eb-4120-f881-1651e5ca2c31"
      },
      "source": [
        "import numpy as np  # Импорт библиотеки numpy под псевдонимом np\n",
        "\n",
        "# Инициализация размеров матриц\n",
        "I = 2  # Количество строк первой матрицы\n",
        "J = 3  # Количество столбцов первой матрицы и строк второй матрицы\n",
        "K = 4*10  # Количество столбцов второй матрицы\n",
        "\n",
        "# Генерация случайных матриц\n",
        "small_mat = np.random.rand(I, J)  # Случайная матрица размером IxJ\n",
        "big_mat = np.random.rand(J, K)  # Случайная матрица размером JxK\n",
        "\n",
        "# Вычисление эталонного решения матричного умножения\n",
        "reference_solution = np.matmul(small_mat, big_mat)\n",
        "\n",
        "def RECORDREADER():\n",
        "    \"\"\"\n",
        "    Генерация значений для элементов двух матриц в виде кортежей (метка, индекс строк и столбцов, значение).\n",
        "    \"\"\"\n",
        "    for i in range(small_mat.shape[0]):  # Проход по строкам первой матрицы\n",
        "        for j in range(small_mat.shape[1]):  # Проход по столбцам первой матрицы\n",
        "            yield ((0, i, j), small_mat[i, j])  # Генерация кортежа для первой матрицы\n",
        "\n",
        "    for j in range(big_mat.shape[0]):  # Проход по строкам второй матрицы\n",
        "        for k in range(big_mat.shape[1]):  # Проход по столбцам второй матрицы\n",
        "            yield ((1, j, k), big_mat[j, k])  # Генерация кортежа для второй матрицы\n",
        "\n",
        "def MAP_JOIN(k1, v1):\n",
        "    \"\"\"\n",
        "    Соединение элементов матриц по индексам для дальнейшей обработки.\n",
        "    \"\"\"\n",
        "    (mat_num, i, j) = k1  # Распаковка ключа\n",
        "    w = v1  # Присвоение значения\n",
        "    if mat_num == 0:  # Если элемент из первой матрицы\n",
        "        yield (j, (mat_num, i, w))  # Генерация ключа для первой матрицы\n",
        "    else:  # Если элемент из второй матрицы\n",
        "        yield (i, (mat_num, j, w))  # Генерация ключа для второй матрицы\n",
        "\n",
        "def REDUCE_JOIN(key, values):\n",
        "    \"\"\"\n",
        "    Сведение значений из двух матриц по ключам для умножения соответствующих элементов.\n",
        "    \"\"\"\n",
        "    from_first_mat = [v for v in values if v[0] == 0]  # Извлечение значений из первой матрицы\n",
        "    from_second_mat = [v for v in values if v[0] == 1]  # Извлечение значений из второй матрицы\n",
        "    for f in from_first_mat:  # Перебор элементов из первой матрицы\n",
        "        for s in from_second_mat:  # Перебор элементов из второй матрицы\n",
        "            yield ((f[1], s[1]), f[2] * s[2])  # Генерация произведения соответствующих элементов\n",
        "\n",
        "def MAP_MUL(k1, v1):\n",
        "    \"\"\"\n",
        "    Умножение значений и генерация новых ключей для хранения результата.\n",
        "    \"\"\"\n",
        "    (i, k) = k1  # Распаковка ключа\n",
        "    yield ((i, k), v1)  # Генерация кортежа с результатом умножения\n",
        "\n",
        "def REDUCE_MUL(key, values):\n",
        "    \"\"\"\n",
        "    Суммирование значений для получения итогового результата по ключу.\n",
        "    \"\"\"\n",
        "    res_el_value = 0  # Инициализация переменной для хранения результата\n",
        "    for v in values:  # Перебор значений\n",
        "        res_el_value += v  # Суммирование значений\n",
        "    yield (key, res_el_value)  # Генерация кортежа с суммой значений\n",
        "\n",
        "def GET_JOINED():\n",
        "    \"\"\"\n",
        "    Генерация всех элементов, объединённых после MapReduce.\n",
        "    \"\"\"\n",
        "    for j in joined:  # Проход по всем элементам после объединения\n",
        "        yield j  # Генерация каждого элемента\n",
        "\n",
        "# Применение алгоритма MapReduce к функциям\n",
        "joined = MapReduce(RECORDREADER, MAP_JOIN, REDUCE_JOIN)  # Применение MapReduce для объединения матриц\n",
        "solution = MapReduce(GET_JOINED, MAP_MUL, REDUCE_MUL)  # Применение MapReduce для умножения и суммирования\n",
        "\n",
        "# Проверка правильности решения\n",
        "np.allclose(reference_solution, asmatrix(solution))  # Сравнение результата с эталонным решением"
      ],
      "execution_count": null,
      "outputs": [
        {
          "output_type": "display_data",
          "data": {
            "text/plain": [
              "<IPython.core.display.HTML object>"
            ],
            "text/html": [
              "\n",
              "  <style>\n",
              "    pre {\n",
              "        white-space: pre-wrap;\n",
              "    }\n",
              "  </style>\n",
              "  "
            ]
          },
          "metadata": {}
        },
        {
          "output_type": "execute_result",
          "data": {
            "text/plain": [
              "True"
            ]
          },
          "metadata": {},
          "execution_count": 108
        }
      ]
    },
    {
      "cell_type": "markdown",
      "metadata": {
        "id": "mXyzQi1DaIwo"
      },
      "source": [
        "Реализуйте перемножение матриц с использованием модельного кода MapReduce Distributed, когда каждая матрица генерируется в своём RECORDREADER."
      ]
    },
    {
      "cell_type": "code",
      "metadata": {
        "id": "TDM_s78Rb5eR",
        "colab": {
          "base_uri": "https://localhost:8080/"
        },
        "outputId": "2ee988ea-f254-43f9-ca9f-b7ee661816c4"
      },
      "source": [
        "# Определение размеров матриц\n",
        "I = 2\n",
        "J = 3\n",
        "K = 4\n",
        "\n",
        "# Генерация случайных матриц\n",
        "small_mat = np.random.rand(I, J)  # Первая случайная матрица размером IxJ\n",
        "big_mat = np.random.rand(J, K)  # Вторая случайная матрица размером JxK\n",
        "\n",
        "# Получение эталонного решения через умножение матриц\n",
        "reference_solution = np.matmul(small_mat, big_mat)\n",
        "\n",
        "def flatten(nested_iterable):\n",
        "    \"\"\"\n",
        "    Разглаживание вложенных итерируемых объектов в одномерный поток элементов.\n",
        "    \"\"\"\n",
        "    for iterable in nested_iterable:\n",
        "        for element in iterable:\n",
        "            yield element\n",
        "\n",
        "def groupbykey(iterable):\n",
        "    \"\"\"\n",
        "    Группировка элементов по ключу в словарь.\n",
        "    \"\"\"\n",
        "    t = {}\n",
        "    for (k2, v2) in iterable:\n",
        "        t[k2] = t.get(k2, []) + [v2]\n",
        "    return t.items()\n",
        "\n",
        "def groupbykey_distributed(map_partitions, PARTITIONER):\n",
        "    \"\"\"\n",
        "    Распределенная группировка элементов по ключу с использованием указанного разделителя.\n",
        "    \"\"\"\n",
        "    global reducers\n",
        "    partitions = [dict() for _ in range(reducers)]  # Инициализация списков для каждой группы\n",
        "    for map_partition in map_partitions:\n",
        "        for (k2, v2) in map_partition:\n",
        "            p = partitions[PARTITIONER(k2)]  # Определение раздела для ключа\n",
        "            p[k2] = p.get(k2, []) + [v2]\n",
        "    return [(partition_id, sorted(partition.items(), key=lambda x: x[0])) for (partition_id, partition) in enumerate(partitions)]\n",
        "\n",
        "def PARTITIONER(obj):\n",
        "    \"\"\"\n",
        "    Определение разделителя для ключа, который определяет, в какую группу попадет элемент.\n",
        "    \"\"\"\n",
        "    global reducers\n",
        "    return hash(obj) % reducers\n",
        "\n",
        "def MapReduceDistributed(INPUTFORMAT, MAP, REDUCE, PARTITIONER=PARTITIONER, COMBINER=None):\n",
        "    \"\"\"\n",
        "    Выполнение распределенного MapReduce для обработки данных.\n",
        "    \"\"\"\n",
        "    # Разделение данных на части и применение MAP функции\n",
        "    map_partitions = map(lambda record_reader: flatten(map(lambda k1v1: MAP(*k1v1), record_reader)), INPUTFORMAT())\n",
        "\n",
        "    # Применение COMBINER, если он определен\n",
        "    if COMBINER != None:\n",
        "        map_partitions = map(lambda map_partition: flatten(map(lambda k2v2: COMBINER(*k2v2), groupbykey(map_partition))), map_partitions)\n",
        "\n",
        "    # Распределенная группировка данных по ключу\n",
        "    reduce_partitions = groupbykey_distributed(map_partitions, PARTITIONER)\n",
        "\n",
        "    # Применение REDUCE функции\n",
        "    reduce_outputs = map(lambda reduce_partition: (reduce_partition[0], flatten(map(lambda reduce_input_group: REDUCE(*reduce_input_group), reduce_partition[1]))), reduce_partitions)\n",
        "\n",
        "    # Вывод количества ключей, переданных по сети\n",
        "    print(\"{} key-value pairs were sent over a network.\".format(sum([len(vs) for (k, vs) in flatten([partition for (partition_id, partition) in reduce_partitions])])))\n",
        "    return reduce_outputs\n",
        "\n",
        "def asmatrix(reduce_output):\n",
        "    \"\"\"\n",
        "    Преобразование данных после REDUCE в матрицу.\n",
        "    \"\"\"\n",
        "    reduce_output = list(reduce_output)\n",
        "    I = max(i for ((i, k), vw) in reduce_output) + 1\n",
        "    K = max(k for ((i, k), vw) in reduce_output) + 1\n",
        "    mat = np.empty(shape=(I, K))\n",
        "    for ((i, k), vw) in reduce_output:\n",
        "        mat[i, k] = vw\n",
        "    return mat\n",
        "\n",
        "def INPUTFORMAT():\n",
        "    \"\"\"\n",
        "    Генератор для создания исходных данных (матриц).\n",
        "    \"\"\"\n",
        "    first_mat = []\n",
        "    for i in range(small_mat.shape[0]):\n",
        "        for j in range(small_mat.shape[1]):\n",
        "            first_mat.append(((0, i, j), small_mat[i, j]))  # Первая матрица\n",
        "    yield first_mat\n",
        "\n",
        "    second_mat = []\n",
        "    for j in range(big_mat.shape[0]):\n",
        "        for k in range(big_mat.shape[1]):\n",
        "            second_mat.append(((1, j, k), big_mat[j, k]))  # Вторая матрица\n",
        "    yield second_mat\n",
        "\n",
        "def MAP_JOIN(k1, v1):\n",
        "    \"\"\"\n",
        "    MAP функция для соединения элементов матриц по индексу.\n",
        "    \"\"\"\n",
        "    (mat_num, i, j) = k1\n",
        "    w = v1\n",
        "    if mat_num == 0:\n",
        "        yield (j, (mat_num, i, w))  # Для первой матрицы\n",
        "    else:\n",
        "        yield (i, (mat_num, j, w))  # Для второй матрицы\n",
        "\n",
        "def REDUCE_JOIN(key, values):\n",
        "    \"\"\"\n",
        "    REDUCE функция для умножения соответствующих значений из двух матриц.\n",
        "    \"\"\"\n",
        "    from_first_mat = [v for v in values if v[0] == 0]\n",
        "    from_second_mat = [v for v in values if v[0] == 1]\n",
        "    for f in from_first_mat:\n",
        "        for s in from_second_mat:\n",
        "            yield ((f[1], s[1]), f[2] * s[2])\n",
        "\n",
        "def GET_JOINED():\n",
        "    \"\"\"\n",
        "    Генератор для получения всех соединенных значений после обработки.\n",
        "    \"\"\"\n",
        "    for j in joined:\n",
        "        print(\"aa\", j)\n",
        "        yield j[1]\n",
        "\n",
        "def MAP_MUL(k1, v1):\n",
        "    \"\"\"\n",
        "    MAP функция для умножения значений по ключу.\n",
        "    \"\"\"\n",
        "    yield (k1, v1)\n",
        "\n",
        "def REDUCE_MUL(key, values):\n",
        "    \"\"\"\n",
        "    REDUCE функция для суммирования значений по ключу.\n",
        "    \"\"\"\n",
        "    res_val = 0\n",
        "    for v in values:\n",
        "        res_val += v  # Суммирование значений\n",
        "    yield (key, res_val)\n",
        "\n",
        "maps = 4  # Количество Map задач\n",
        "reducers = 2  # Количество Reducers\n",
        "\n",
        "# Выполнение MapReduce для соединения матриц\n",
        "partitioned_output = MapReduceDistributed(INPUTFORMAT, MAP_JOIN, REDUCE_JOIN, COMBINER=None)\n",
        "joined = [(partition_id, list(partition)) for (partition_id, partition) in partitioned_output]\n",
        "print(joined)\n",
        "\n",
        "# Выполнение MapReduce для умножения значений\n",
        "mul_output = MapReduceDistributed(GET_JOINED, MAP_MUL, REDUCE_MUL, COMBINER=None)\n",
        "pre_result = [(partition_id, list(partition)) for (partition_id, partition) in mul_output]\n",
        "print(pre_result)\n",
        "\n",
        "# Формирование итогового решения\n",
        "solution = []\n",
        "for p in pre_result:\n",
        "    for v in p[1]:\n",
        "        solution.append(v)\n",
        "\n",
        "print(solution)\n",
        "\n",
        "# Проверка результата на соответствие эталонному решению\n",
        "np.allclose(reference_solution, asmatrix(solution))  # Сравнение с эталонным результатом"
      ],
      "execution_count": 9,
      "outputs": [
        {
          "output_type": "stream",
          "name": "stdout",
          "text": [
            "18 key-value pairs were sent over a network.\n",
            "[(0, [((0, 0), 0.3652804124358081), ((0, 1), 0.18321077739056962), ((0, 2), 0.0913956789399809), ((0, 3), 0.06572566184135892), ((1, 0), 0.6815689261212347), ((1, 1), 0.3418490796351448), ((1, 2), 0.170533246860563), ((1, 3), 0.12263610977961939), ((0, 0), 0.2064393958152946), ((0, 1), 0.121660444152244), ((0, 2), 0.5699970607217889), ((0, 3), 0.04099983809959785), ((1, 0), 0.11660869084290779), ((1, 1), 0.0687207258281891), ((1, 2), 0.32196670006989464), ((1, 3), 0.02315903622311933)]), (1, [((0, 0), 0.09532239350997322), ((0, 1), 0.09884218024971253), ((0, 2), 0.5589043509031115), ((0, 3), 0.4802445412996089), ((1, 0), 0.05433816114969145), ((1, 1), 0.0563446019453319), ((1, 2), 0.3186012600854331), ((1, 3), 0.2737615403422231)])]\n",
            "aa (0, [((0, 0), 0.3652804124358081), ((0, 1), 0.18321077739056962), ((0, 2), 0.0913956789399809), ((0, 3), 0.06572566184135892), ((1, 0), 0.6815689261212347), ((1, 1), 0.3418490796351448), ((1, 2), 0.170533246860563), ((1, 3), 0.12263610977961939), ((0, 0), 0.2064393958152946), ((0, 1), 0.121660444152244), ((0, 2), 0.5699970607217889), ((0, 3), 0.04099983809959785), ((1, 0), 0.11660869084290779), ((1, 1), 0.0687207258281891), ((1, 2), 0.32196670006989464), ((1, 3), 0.02315903622311933)])\n",
            "aa (1, [((0, 0), 0.09532239350997322), ((0, 1), 0.09884218024971253), ((0, 2), 0.5589043509031115), ((0, 3), 0.4802445412996089), ((1, 0), 0.05433816114969145), ((1, 1), 0.0563446019453319), ((1, 2), 0.3186012600854331), ((1, 3), 0.2737615403422231)])\n",
            "24 key-value pairs were sent over a network.\n",
            "[(0, [((0, 1), 0.4037134017925262), ((0, 2), 1.2202970905648813), ((1, 0), 0.8525157781138339), ((1, 1), 0.46691440740866585), ((1, 3), 0.4195566863449618)]), (1, [((0, 0), 0.6670422017610759), ((0, 3), 0.5869700412405656), ((1, 2), 0.8111012070158907)])]\n",
            "[((0, 1), 0.4037134017925262), ((0, 2), 1.2202970905648813), ((1, 0), 0.8525157781138339), ((1, 1), 0.46691440740866585), ((1, 3), 0.4195566863449618), ((0, 0), 0.6670422017610759), ((0, 3), 0.5869700412405656), ((1, 2), 0.8111012070158907)]\n"
          ]
        },
        {
          "output_type": "execute_result",
          "data": {
            "text/plain": [
              "True"
            ]
          },
          "metadata": {},
          "execution_count": 9
        }
      ]
    },
    {
      "cell_type": "markdown",
      "metadata": {
        "id": "ZuSA2P9Db6UM"
      },
      "source": [
        "Обобщите предыдущее решение на случай, когда каждая матрица генерируется несколькими RECORDREADER-ами, и проверьте его работоспособность. Будет ли работать решение, если RECORDREADER-ы будут генерировать случайное подмножество элементов матрицы?"
      ]
    },
    {
      "cell_type": "code",
      "metadata": {
        "id": "ehN0FqRDcwU5",
        "colab": {
          "base_uri": "https://localhost:8080/"
        },
        "outputId": "79ccaf85-7f44-43de-d580-9192a779e203"
      },
      "source": [
        "# Определение размеров матриц\n",
        "I = 2  # Количество строк первой матрицы и строк в итоговой матрице\n",
        "J = 3  # Количество столбцов первой матрицы и строк второй матрицы\n",
        "K = 4  # Количество столбцов второй матрицы и столбцов в итоговой матрице\n",
        "\n",
        "# Генерация случайных матриц\n",
        "small_mat = np.random.rand(I, J)  # Генерация первой матрицы\n",
        "big_mat = np.random.rand(J, K)  # Генерация второй матрицы\n",
        "\n",
        "# Получение эталонного решения через умножение матриц\n",
        "reference_solution = np.matmul(small_mat, big_mat)\n",
        "\n",
        "# Функция для \"разглаживания\" вложенных итерируемых объектов\n",
        "def flatten(nested_iterable):\n",
        "    \"\"\"\n",
        "    Разглаживает вложенные итерируемые объекты в одномерный список.\n",
        "    \"\"\"\n",
        "    for iterable in nested_iterable:\n",
        "        for element in iterable:\n",
        "            yield element\n",
        "\n",
        "# Функция для группировки элементов по ключу\n",
        "def groupbykey(iterable):\n",
        "    \"\"\"\n",
        "    Группирует элементы по ключу, создавая словарь с ключами и соответствующими им значениями.\n",
        "    \"\"\"\n",
        "    t = {}\n",
        "    for (k2, v2) in iterable:\n",
        "        t[k2] = t.get(k2, []) + [v2]\n",
        "    return t.items()\n",
        "\n",
        "# Функция для распределенной группировки элементов по ключу\n",
        "def groupbykey_distributed(map_partitions, PARTITIONER):\n",
        "    \"\"\"\n",
        "    Распределяет элементы по нескольким партициям с использованием функции PARTITIONER.\n",
        "    \"\"\"\n",
        "    global reducers\n",
        "    partitions = [dict() for _ in range(reducers)]\n",
        "    for map_partition in map_partitions:\n",
        "        for (k2, v2) in map_partition:\n",
        "            p = partitions[PARTITIONER(k2)]\n",
        "            p[k2] = p.get(k2, []) + [v2]\n",
        "    return [(partition_id, sorted(partition.items(), key=lambda x: x[0])) for (partition_id, partition) in enumerate(partitions)]\n",
        "\n",
        "# Функция для определения разделителя (по ключу)\n",
        "def PARTITIONER(obj):\n",
        "    \"\"\"\n",
        "    Определяет партицию для объекта на основе хэш-функции.\n",
        "    \"\"\"\n",
        "    global reducers\n",
        "    return hash(obj) % reducers\n",
        "\n",
        "# Функция для выполнения MapReduce на распределенных данных\n",
        "def MapReduceDistributed(INPUTFORMAT, MAP, REDUCE, PARTITIONER=PARTITIONER, COMBINER=None):\n",
        "    \"\"\"\n",
        "    Выполняет MapReduce на распределенных данных с использованием функций MAP и REDUCE.\n",
        "    \"\"\"\n",
        "    map_partitions = map(lambda record_reader: flatten(map(lambda k1v1: MAP(*k1v1), record_reader)), INPUTFORMAT())\n",
        "\n",
        "    if COMBINER is not None:\n",
        "        map_partitions = map(lambda map_partition: flatten(map(lambda k2v2: COMBINER(*k2v2), groupbykey(map_partition))), map_partitions)\n",
        "\n",
        "    reduce_partitions = groupbykey_distributed(map_partitions, PARTITIONER)  # shuffle\n",
        "\n",
        "    reduce_outputs = map(lambda reduce_partition: (reduce_partition[0], flatten(map(lambda reduce_input_group: REDUCE(*reduce_input_group), reduce_partition[1]))), reduce_partitions)\n",
        "\n",
        "    print(\"{} key-value pairs were sent over a network.\".format(sum([len(vs) for (k,vs) in flatten([partition for (partition_id, partition) in reduce_partitions])])))\n",
        "    return reduce_outputs\n",
        "\n",
        "# Функция для преобразования результата REDUCE в матрицу\n",
        "def asmatrix(reduce_output):\n",
        "    \"\"\"\n",
        "    Преобразует результат REDUCE в матрицу, формируя ее из кортежей (i, k) и значений.\n",
        "    \"\"\"\n",
        "    reduce_output = list(reduce_output)\n",
        "    I = max(i for ((i,k), vw) in reduce_output) + 1\n",
        "    K = max(k for ((i,k), vw) in reduce_output) + 1\n",
        "    mat = np.empty(shape=(I,K))\n",
        "    for ((i,k), vw) in reduce_output:\n",
        "        mat[i,k] = vw\n",
        "    return mat\n",
        "\n",
        "# Генератор для вводных данных\n",
        "def INPUTFORMAT():\n",
        "    \"\"\"\n",
        "    Генерирует вводные данные для MapReduce, включая первую и вторую матрицы.\n",
        "    \"\"\"\n",
        "    first_mat = []\n",
        "\n",
        "    for i in range(small_mat.shape[0]):\n",
        "        for j in range(small_mat.shape[1]):\n",
        "            first_mat.append(((0, i, j), small_mat[i,j]))  # первая матрица\n",
        "\n",
        "    global maps\n",
        "    split_size = int(np.ceil(len(first_mat) / maps))\n",
        "\n",
        "    for i in range(0, len(first_mat), split_size):\n",
        "        yield first_mat[i:i+split_size]\n",
        "\n",
        "    second_mat = []\n",
        "\n",
        "    for j in range(big_mat.shape[0]):\n",
        "        for k in range(big_mat.shape[1]):\n",
        "            second_mat.append(((1, j, k), big_mat[j,k]))  # вторая матрица\n",
        "\n",
        "    split_size = int(np.ceil(len(second_mat) / maps))\n",
        "\n",
        "    for i in range(0, len(second_mat), split_size):\n",
        "        yield second_mat[i:i+split_size]\n",
        "\n",
        "# MAP функция для соединения матриц\n",
        "def MAP_JOIN(k1, v1):\n",
        "    \"\"\"\n",
        "    Преобразует элементы для соединения матриц на основе их индексов.\n",
        "    \"\"\"\n",
        "    (mat_num, i, j) = k1\n",
        "    w = v1\n",
        "\n",
        "    if mat_num == 0:\n",
        "        yield (j, (mat_num, i, w))\n",
        "    else:\n",
        "        yield (i, (mat_num, j, w))\n",
        "\n",
        "# REDUCE функция для соединения матриц\n",
        "def REDUCE_JOIN(key, values):\n",
        "    \"\"\"\n",
        "    Выполняет соединение элементов из обеих матриц по соответствующим индексам.\n",
        "    \"\"\"\n",
        "    from_first_mat = [v for v in values if v[0] == 0]\n",
        "    from_second_mat = [v for v in values if v[0] == 1]\n",
        "\n",
        "    for f in from_first_mat:\n",
        "        for s in from_second_mat:\n",
        "            yield ((f[1], s[1]), f[2] * s[2])\n",
        "\n",
        "# Генератор для получения соединенных данных\n",
        "def GET_JOINED():\n",
        "    \"\"\"\n",
        "    Генерирует соединенные данные для дальнейших вычислений.\n",
        "    \"\"\"\n",
        "    for j in joined:\n",
        "        print(\"aa\", j)\n",
        "        yield j[1]\n",
        "\n",
        "# MAP функция для умножения значений\n",
        "def MAP_MUL(k1, v1):\n",
        "    \"\"\"\n",
        "    Процесс умножения значений в MapReduce.\n",
        "    \"\"\"\n",
        "    yield (k1, v1)\n",
        "\n",
        "# REDUCE функция для умножения значений\n",
        "def REDUCE_MUL(key, values):\n",
        "    \"\"\"\n",
        "    Выполняет суммирование значений для получения результата умножения матриц.\n",
        "    \"\"\"\n",
        "    res_val = 0\n",
        "    for v in values:\n",
        "        res_val += v\n",
        "    yield (key, res_val)\n",
        "\n",
        "maps = 3  # Количество карт (партиций)\n",
        "reducers = 2  # Количество редьюсеров\n",
        "\n",
        "# Выполнение MapReduce для соединения матриц\n",
        "partitioned_output = MapReduceDistributed(INPUTFORMAT, MAP_JOIN, REDUCE_JOIN, COMBINER=None)\n",
        "joined = [(partition_id, list(partition)) for (partition_id, partition) in partitioned_output]\n",
        "print(joined)\n",
        "\n",
        "# Выполнение MapReduce для умножения значений\n",
        "mul_output = MapReduceDistributed(GET_JOINED, MAP_MUL, REDUCE_MUL, COMBINER=None)\n",
        "pre_result = [(partition_id, list(partition)) for (partition_id, partition) in mul_output]\n",
        "print(pre_result)\n",
        "\n",
        "solution = []\n",
        "\n",
        "for p in pre_result:\n",
        "    for v in p[1]:\n",
        "        solution.append(v)\n",
        "\n",
        "print(solution)\n",
        "\n",
        "# Проверка результата на соответствие эталонному решению\n",
        "np.allclose(reference_solution, asmatrix(solution))"
      ],
      "execution_count": 11,
      "outputs": [
        {
          "output_type": "stream",
          "name": "stdout",
          "text": [
            "18 key-value pairs were sent over a network.\n",
            "[(0, [((0, 0), 0.0916670624616288), ((0, 1), 0.07612792714057096), ((0, 2), 0.00421767328094783), ((0, 3), 0.09510353969150907), ((1, 0), 0.5995560253783815), ((1, 1), 0.4979210219134225), ((1, 2), 0.02758604193003554), ((1, 3), 0.6220325897399022), ((0, 0), 0.07465707863767518), ((0, 1), 0.8807123916418103), ((0, 2), 0.5397691592620495), ((0, 3), 0.8365389216085857), ((1, 0), 0.06960007713083256), ((1, 1), 0.8210561075640131), ((1, 2), 0.5032071412786956), ((1, 3), 0.7798747892275435)]), (1, [((0, 0), 0.2793120251582633), ((0, 1), 0.5094013297321783), ((0, 2), 0.6821290097013052), ((0, 3), 0.042362937349492404), ((1, 0), 0.2234842560492663), ((1, 1), 0.4075842317966699), ((1, 2), 0.5457877947658744), ((1, 3), 0.03389560307061094)])]\n",
            "aa (0, [((0, 0), 0.0916670624616288), ((0, 1), 0.07612792714057096), ((0, 2), 0.00421767328094783), ((0, 3), 0.09510353969150907), ((1, 0), 0.5995560253783815), ((1, 1), 0.4979210219134225), ((1, 2), 0.02758604193003554), ((1, 3), 0.6220325897399022), ((0, 0), 0.07465707863767518), ((0, 1), 0.8807123916418103), ((0, 2), 0.5397691592620495), ((0, 3), 0.8365389216085857), ((1, 0), 0.06960007713083256), ((1, 1), 0.8210561075640131), ((1, 2), 0.5032071412786956), ((1, 3), 0.7798747892275435)])\n",
            "aa (1, [((0, 0), 0.2793120251582633), ((0, 1), 0.5094013297321783), ((0, 2), 0.6821290097013052), ((0, 3), 0.042362937349492404), ((1, 0), 0.2234842560492663), ((1, 1), 0.4075842317966699), ((1, 2), 0.5457877947658744), ((1, 3), 0.03389560307061094)])\n",
            "24 key-value pairs were sent over a network.\n",
            "[(0, [((0, 1), 1.4662416485145595), ((0, 2), 1.2261158422443024), ((1, 0), 0.8926403585584803), ((1, 1), 1.7265613612741055), ((1, 3), 1.4358029820380567)]), (1, [((0, 0), 0.4456361662575673), ((0, 3), 0.9740053986495871), ((1, 2), 1.0765809779746056)])]\n",
            "[((0, 1), 1.4662416485145595), ((0, 2), 1.2261158422443024), ((1, 0), 0.8926403585584803), ((1, 1), 1.7265613612741055), ((1, 3), 1.4358029820380567), ((0, 0), 0.4456361662575673), ((0, 3), 0.9740053986495871), ((1, 2), 1.0765809779746056)]\n"
          ]
        },
        {
          "output_type": "execute_result",
          "data": {
            "text/plain": [
              "True"
            ]
          },
          "metadata": {},
          "execution_count": 11
        }
      ]
    }
  ]
}