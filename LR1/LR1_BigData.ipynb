{
  "nbformat": 4,
  "nbformat_minor": 0,
  "metadata": {
    "colab": {
      "provenance": []
    },
    "kernelspec": {
      "name": "python3",
      "display_name": "Python 3"
    },
    "language_info": {
      "name": "python"
    }
  },
  "cells": [
    {
      "cell_type": "markdown",
      "source": [
        "# Imports"
      ],
      "metadata": {
        "id": "bkzhPu883KbV"
      }
    },
    {
      "cell_type": "code",
      "execution_count": 1,
      "metadata": {
        "colab": {
          "base_uri": "https://localhost:8080/"
        },
        "id": "cBMgZL6QIuXu",
        "outputId": "398e19ea-051a-4180-9fe6-1ba30bc0bcaa"
      },
      "outputs": [
        {
          "output_type": "stream",
          "name": "stdout",
          "text": [
            "Requirement already satisfied: pyspark==3.5.0 in /usr/local/lib/python3.11/dist-packages (3.5.0)\n",
            "Requirement already satisfied: py4j==0.10.9.7 in /usr/local/lib/python3.11/dist-packages (from pyspark==3.5.0) (0.10.9.7)\n"
          ]
        }
      ],
      "source": [
        "!pip3 install pyspark==3.5.0"
      ]
    },
    {
      "cell_type": "code",
      "source": [
        "import pyspark.sql.functions as F\n",
        "import pyspark.sql.types as t\n",
        "\n",
        "from pyspark.sql import SparkSession\n",
        "from pyspark.sql.functions import col\n",
        "from geopy.distance import geodesic\n",
        "from math import sqrt"
      ],
      "metadata": {
        "id": "j920oUcxI5Wi"
      },
      "execution_count": 2,
      "outputs": []
    },
    {
      "cell_type": "code",
      "source": [
        "spark = SparkSession.builder.getOrCreate()\n",
        "spark"
      ],
      "metadata": {
        "colab": {
          "base_uri": "https://localhost:8080/",
          "height": 219
        },
        "id": "PQlAJf6YJHSu",
        "outputId": "d0f2a689-c605-4d0f-9fcf-f7e85806dbac"
      },
      "execution_count": 3,
      "outputs": [
        {
          "output_type": "execute_result",
          "data": {
            "text/plain": [
              "<pyspark.sql.session.SparkSession at 0x7f9be9057ad0>"
            ],
            "text/html": [
              "\n",
              "            <div>\n",
              "                <p><b>SparkSession - in-memory</b></p>\n",
              "                \n",
              "        <div>\n",
              "            <p><b>SparkContext</b></p>\n",
              "\n",
              "            <p><a href=\"http://59cbe49c0478:4040\">Spark UI</a></p>\n",
              "\n",
              "            <dl>\n",
              "              <dt>Version</dt>\n",
              "                <dd><code>v3.5.0</code></dd>\n",
              "              <dt>Master</dt>\n",
              "                <dd><code>local[*]</code></dd>\n",
              "              <dt>AppName</dt>\n",
              "                <dd><code>pyspark-shell</code></dd>\n",
              "            </dl>\n",
              "        </div>\n",
              "        \n",
              "            </div>\n",
              "        "
            ]
          },
          "metadata": {},
          "execution_count": 3
        }
      ]
    },
    {
      "cell_type": "markdown",
      "source": [
        "# Задачи для данных велопарковок Сан-Франциско"
      ],
      "metadata": {
        "id": "er2v3vBI3VoG"
      }
    },
    {
      "cell_type": "markdown",
      "source": [
        "## 1. Найти велосипед с максимальным временем пробега."
      ],
      "metadata": {
        "id": "KVwAcqmTLk8Y"
      }
    },
    {
      "cell_type": "code",
      "source": [
        "trips = spark.read.format('csv').option('header', 'true').load(\"trip.csv\")"
      ],
      "metadata": {
        "id": "gnCjxW-_JXc1"
      },
      "execution_count": 5,
      "outputs": []
    },
    {
      "cell_type": "code",
      "source": [
        "# Группировка по 'bike_id' и вычисление максимальной длительности одной поездки\n",
        "max_duration_per_bike = (\n",
        "    trips\n",
        "    .filter(F.col(\"duration\").isNotNull())  # Исключаем null в duration\n",
        "    .groupBy('bike_id')\n",
        "    .agg(\n",
        "        F.sum(F.col(\"duration\").cast(t.IntegerType())).alias(\"duration\")\n",
        "    )\n",
        ")\n",
        "\n",
        "# Нахождение велосипеда с самой длинной поездкой\n",
        "top_longest_trip = max_duration_per_bike.orderBy(F.col('duration').desc())\n",
        "top_longest_trip.show(1)"
      ],
      "metadata": {
        "colab": {
          "base_uri": "https://localhost:8080/"
        },
        "id": "al0EoLpsKFIU",
        "outputId": "a08cdbf7-fee4-4b0c-cbc0-371f6393bef9"
      },
      "execution_count": 24,
      "outputs": [
        {
          "output_type": "stream",
          "name": "stdout",
          "text": [
            "+-------+--------+\n",
            "|bike_id|duration|\n",
            "+-------+--------+\n",
            "|    168|  613841|\n",
            "+-------+--------+\n",
            "only showing top 1 row\n",
            "\n"
          ]
        }
      ]
    },
    {
      "cell_type": "markdown",
      "source": [
        "## 2. Найти наибольшее геодезическое расстояние между станциями."
      ],
      "metadata": {
        "id": "N_xVx_17Lvgs"
      }
    },
    {
      "cell_type": "code",
      "source": [
        "stations = spark.read.format('csv').option('header', 'true').load(\"station.csv\")"
      ],
      "metadata": {
        "id": "_QYKv3F8Lwtu"
      },
      "execution_count": 13,
      "outputs": []
    },
    {
      "cell_type": "code",
      "source": [
        "# Выбор столбцов 'id', 'lat' и 'long' из DataFrame stations\n",
        "stations_data = stations.select(\"id\", \"lat\", \"long\")\n",
        "stations_data.show(5)\n",
        "\n",
        "# Создание комбинации станций с фильтрацией на уровне DataFrame\n",
        "combo = stations_data.selectExpr('id as A', 'lat as A_lat', 'long as A_long') \\\n",
        "    .crossJoin(stations_data.selectExpr('id as B', 'lat as B_lat', 'long as B_long')) \\\n",
        "    .filter(col('A') != col('B'))\n",
        "\n",
        "# Функция для вычисления геодезического расстояния\n",
        "def geodesic_distance(a_lat, a_long, b_lat, b_long):\n",
        "    try:\n",
        "        return geodesic((float(a_lat), float(a_long)), (float(b_lat), float(b_long))).km\n",
        "    except ValueError:\n",
        "        return None  # Возвращаем None, если координаты некорректны\n",
        "\n",
        "# Применение функции к каждой паре станций и сохранение результатов в RDD\n",
        "dists = combo.rdd.map(lambda row: (row.A, row.B, geodesic_distance(row.A_lat, row.A_long, row.B_lat, row.B_long)))\n",
        "\n",
        "# Нахождение максимального расстояния между станциями\n",
        "max_distance = dists.max(lambda row: row[2] if row[2] is not None else float('-inf'))\n",
        "\n",
        "# Вывод результата\n",
        "print(f\"Станции с максимальным расстоянием: {max_distance[0]} и {max_distance[1]}, расстояние: {max_distance[2]} км\")"
      ],
      "metadata": {
        "colab": {
          "base_uri": "https://localhost:8080/"
        },
        "id": "AqtdKfkBL0Ht",
        "outputId": "32d9debe-1393-4716-ce45-bd19ef6ea4b5"
      },
      "execution_count": 16,
      "outputs": [
        {
          "output_type": "stream",
          "name": "stdout",
          "text": [
            "+---+------------------+-------------------+\n",
            "| id|               lat|               long|\n",
            "+---+------------------+-------------------+\n",
            "|  2|         37.329732|-121.90178200000001|\n",
            "|  3|         37.330698|        -121.888979|\n",
            "|  4|         37.333988|        -121.894902|\n",
            "|  5|         37.331415|          -121.8932|\n",
            "|  6|37.336721000000004|        -121.894074|\n",
            "+---+------------------+-------------------+\n",
            "only showing top 5 rows\n",
            "\n",
            "Станции с максимальным расстоянием: 16 и 60, расстояние: 69.92096757764355 км\n"
          ]
        }
      ]
    },
    {
      "cell_type": "markdown",
      "source": [
        "## 3. Найти путь велосипеда с максимальным временем пробега через станции."
      ],
      "metadata": {
        "id": "CRijWjK4MCnk"
      }
    },
    {
      "cell_type": "code",
      "source": [
        "# Выбор нужных столбцов, включая 'duration', фильтрация по bike_id = 535 и поиск максимальной длительности\n",
        "max_trip = (\n",
        "    trips.select(\"id\", \"bike_id\", \"start_station_id\", \"end_station_id\", \"duration\")\n",
        "    .filter(F.col(\"bike_id\") == 535)\n",
        "    .orderBy(F.col(\"duration\").cast(t.IntegerType()).desc())  # Сортировка по длительности\n",
        "    .limit(1)  # Берем только одну запись с максимальной длительностью\n",
        ")\n",
        "\n",
        "# Вывод результата\n",
        "max_trip.show()\n",
        "print(\"Путь велосипеда с максимальным временем пробега:\")\n",
        "print(f\"ID поездки: {max_trip.first()['id']}, Начальная станция: {max_trip.first()['start_station_id']}, Конечная станция: {max_trip.first()['end_station_id']}, Длительность: {max_trip.first()['duration']} секунд\")"
      ],
      "metadata": {
        "colab": {
          "base_uri": "https://localhost:8080/"
        },
        "id": "WJHfs7K_MFkq",
        "outputId": "7e915037-b790-497a-c843-be02a6230fd1"
      },
      "execution_count": 17,
      "outputs": [
        {
          "output_type": "stream",
          "name": "stdout",
          "text": [
            "+-----+-------+----------------+--------------+--------+\n",
            "|   id|bike_id|start_station_id|end_station_id|duration|\n",
            "+-----+-------+----------------+--------------+--------+\n",
            "|21344|    535|              62|            75|   25179|\n",
            "+-----+-------+----------------+--------------+--------+\n",
            "\n",
            "Путь велосипеда с максимальным временем пробега:\n",
            "ID поездки: 21344, Начальная станция: 62, Конечная станция: 75, Длительность: 25179 секунд\n"
          ]
        }
      ]
    },
    {
      "cell_type": "markdown",
      "source": [
        "## 4. Найти количество велосипедов в системе."
      ],
      "metadata": {
        "id": "gRBsEdTuMS3s"
      }
    },
    {
      "cell_type": "code",
      "source": [
        "count_bikes = max_duration_per_bike.count()\n",
        "\n",
        "count_bikes"
      ],
      "metadata": {
        "colab": {
          "base_uri": "https://localhost:8080/"
        },
        "id": "r6iH97LEMUUo",
        "outputId": "a5f30af6-7dc1-4352-c98d-ac80cb1e7a9f"
      },
      "execution_count": null,
      "outputs": [
        {
          "output_type": "execute_result",
          "data": {
            "text/plain": [
              "700"
            ]
          },
          "metadata": {},
          "execution_count": 25
        }
      ]
    },
    {
      "cell_type": "markdown",
      "source": [
        "## 5. Найти пользователей потративших на поездки более 3 часов."
      ],
      "metadata": {
        "id": "F4mnGauDMV5_"
      }
    },
    {
      "cell_type": "code",
      "source": [
        "# Группировка по 'zip_code' и вычисление суммарной продолжительности поездок\n",
        "output_filtered = (\n",
        "    trips\n",
        "    .groupBy('zip_code')\n",
        "    .agg(\n",
        "        F.sum(F.col(\"duration\").cast(t.IntegerType())).alias(\"total_duration\")  # Сумма вместо максимума\n",
        "    )\n",
        "    .filter(F.col(\"total_duration\") >= 10800)  # Фильтрация по суммарному времени ≥ 3 часов\n",
        ")\n",
        "\n",
        "# Подсчёт количества пользователей и вывод результата\n",
        "num_users = output_filtered.count()\n",
        "output_filtered.show(truncate=False)\n",
        "\n",
        "print(f\"Найдено {num_users} пользователей, потративших на поездки более 3 часов\")"
      ],
      "metadata": {
        "colab": {
          "base_uri": "https://localhost:8080/"
        },
        "id": "EoUA27k7MW72",
        "outputId": "bc6407aa-6bb8-4578-a317-f801190ca2e7"
      },
      "execution_count": 18,
      "outputs": [
        {
          "output_type": "stream",
          "name": "stdout",
          "text": [
            "+--------+--------------+\n",
            "|zip_code|total_duration|\n",
            "+--------+--------------+\n",
            "|94102   |1341919       |\n",
            "|95134   |11779         |\n",
            "|80305   |17577         |\n",
            "|95138   |14999         |\n",
            "|94610   |139809        |\n",
            "|94404   |78552         |\n",
            "|80301   |22735         |\n",
            "|91326   |13038         |\n",
            "|90742   |10965         |\n",
            "|94568   |23675         |\n",
            "|94015   |80531         |\n",
            "|28034   |13820         |\n",
            "|95130   |15006         |\n",
            "|53714   |36460         |\n",
            "|85251   |14117         |\n",
            "|94550   |44488         |\n",
            "|94107   |2381768       |\n",
            "|76039   |70689         |\n",
            "|2144    |23143         |\n",
            "|90802   |22931         |\n",
            "+--------+--------------+\n",
            "only showing top 20 rows\n",
            "\n",
            "Найдено 452 пользователей, потративших на поездки более 3 часов\n"
          ]
        }
      ]
    }
  ]
}