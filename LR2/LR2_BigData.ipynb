{
  "nbformat": 4,
  "nbformat_minor": 0,
  "metadata": {
    "colab": {
      "provenance": []
    },
    "kernelspec": {
      "name": "python3",
      "display_name": "Python 3"
    },
    "language_info": {
      "name": "python"
    }
  },
  "cells": [
    {
      "cell_type": "markdown",
      "source": [
        "# Задание:\n",
        "Сформировать отчёт с информацией о 10 наиболее популярных языках программирования по итогам года за период с 2010 по 2020 годы. Отчёт будет отражать динамику изменения популярности языков программирования и представлять собой набор таблиц \"топ-10\" для каждого года.\n",
        "\n",
        "Получившийся отчёт сохранить в формате Apache Parquet."
      ],
      "metadata": {
        "id": "2EtcYjwFTkGR"
      }
    },
    {
      "cell_type": "markdown",
      "source": [
        "## Imports"
      ],
      "metadata": {
        "id": "CNsjxwj8w4hE"
      }
    },
    {
      "cell_type": "code",
      "execution_count": 6,
      "metadata": {
        "colab": {
          "base_uri": "https://localhost:8080/"
        },
        "id": "OlGaREnOS1FY",
        "outputId": "234cc00a-dec9-4966-fcbb-0368b92e4fa1"
      },
      "outputs": [
        {
          "output_type": "stream",
          "name": "stdout",
          "text": [
            "Requirement already satisfied: pyspark in /usr/local/lib/python3.11/dist-packages (3.5.5)\n",
            "Requirement already satisfied: py4j==0.10.9.7 in /usr/local/lib/python3.11/dist-packages (from pyspark) (0.10.9.7)\n"
          ]
        }
      ],
      "source": [
        "!pip install pyspark"
      ]
    },
    {
      "cell_type": "code",
      "source": [
        "import os\n",
        "import sys\n",
        "import pyspark.sql.functions as F\n",
        "from pyspark.sql import Row\n",
        "from pyspark.sql import SparkSession\n",
        "\n",
        "# Настройка переменных окружения для корректной работы PySpark\n",
        "os.environ['PYSPARK_PYTHON'] = sys.executable\n",
        "os.environ['PYSPARK_DRIVER_PYTHON'] = sys.executable\n",
        "\n",
        "# Добавление пакета для парсинга XML\n",
        "os.environ['PYSPARK_SUBMIT_ARGS'] = '--packages com.databricks:spark-xml_2.12:0.17.0 pyspark-shell'"
      ],
      "metadata": {
        "id": "SJRAYS_ET85s"
      },
      "execution_count": 15,
      "outputs": []
    },
    {
      "cell_type": "code",
      "source": [
        "# Создание SparkSession\n",
        "spark = SparkSession.builder \\\n",
        "    .appName(\"Top Programming Languages 2010-2020\") \\\n",
        "    .getOrCreate()\n",
        "\n",
        "spark"
      ],
      "metadata": {
        "colab": {
          "base_uri": "https://localhost:8080/",
          "height": 219
        },
        "id": "57OEzA_6UGPH",
        "outputId": "92440511-df2a-4cc2-d024-43d782f709ff"
      },
      "execution_count": 16,
      "outputs": [
        {
          "output_type": "execute_result",
          "data": {
            "text/plain": [
              "<pyspark.sql.session.SparkSession at 0x7bfb3c1a3b90>"
            ],
            "text/html": [
              "\n",
              "            <div>\n",
              "                <p><b>SparkSession - in-memory</b></p>\n",
              "                \n",
              "        <div>\n",
              "            <p><b>SparkContext</b></p>\n",
              "\n",
              "            <p><a href=\"http://339128d2afa4:4040\">Spark UI</a></p>\n",
              "\n",
              "            <dl>\n",
              "              <dt>Version</dt>\n",
              "                <dd><code>v3.5.5</code></dd>\n",
              "              <dt>Master</dt>\n",
              "                <dd><code>local[*]</code></dd>\n",
              "              <dt>AppName</dt>\n",
              "                <dd><code>pyspark-shell</code></dd>\n",
              "            </dl>\n",
              "        </div>\n",
              "        \n",
              "            </div>\n",
              "        "
            ]
          },
          "metadata": {},
          "execution_count": 16
        }
      ]
    },
    {
      "cell_type": "code",
      "source": [
        "# Загрузка файла posts_sample.xml\n",
        "!wget https://git.ai.ssau.ru/tk/big_data/raw/branch/master/data/posts_sample.xml\n",
        "\n",
        "# Загрузка файла programming-languages.csv\n",
        "!wget https://git.ai.ssau.ru/tk/big_data/raw/branch/master/data/programming-languages.csv"
      ],
      "metadata": {
        "colab": {
          "base_uri": "https://localhost:8080/"
        },
        "id": "N2P3eDJOUJnP",
        "outputId": "9976ac31-72e9-4540-ec7c-09b9c20f3f91"
      },
      "execution_count": 5,
      "outputs": [
        {
          "output_type": "stream",
          "name": "stdout",
          "text": [
            "--2025-03-16 16:23:48--  https://git.ai.ssau.ru/tk/big_data/raw/branch/master/data/posts_sample.xml\n",
            "Resolving git.ai.ssau.ru (git.ai.ssau.ru)... 91.222.131.161\n",
            "Connecting to git.ai.ssau.ru (git.ai.ssau.ru)|91.222.131.161|:443... connected.\n",
            "HTTP request sent, awaiting response... 200 OK\n",
            "Length: 74162295 (71M) [text/plain]\n",
            "Saving to: ‘posts_sample.xml’\n",
            "\n",
            "posts_sample.xml    100%[===================>]  70.73M   362KB/s    in 2m 52s  \n",
            "\n",
            "2025-03-16 16:26:42 (421 KB/s) - ‘posts_sample.xml’ saved [74162295/74162295]\n",
            "\n"
          ]
        }
      ]
    },
    {
      "cell_type": "markdown",
      "source": [
        "## Solution"
      ],
      "metadata": {
        "id": "7JtUaHzNw9Q3"
      }
    },
    {
      "cell_type": "markdown",
      "source": [
        "### Чтение и анализ данных posts_sample.xml"
      ],
      "metadata": {
        "id": "fOYbJ6KTzucM"
      }
    },
    {
      "cell_type": "code",
      "source": [
        "# Чтение XML-файла с постами\n",
        "posts_data = spark.read \\\n",
        "    .format('xml') \\\n",
        "    .option('rowTag', 'row') \\\n",
        "    .option(\"timestampFormat\", 'y/M/d H:m:s') \\\n",
        "    .load('posts_sample.xml')\n",
        "\n",
        "# Вывод информации о данных\n",
        "print(\"Схема данных:\")\n",
        "posts_data.printSchema()\n",
        "\n",
        "print(\"\\nПервые 5 записей:\")\n",
        "posts_data.show(n=5)\n",
        "\n",
        "print(\"\\nСтатистика по данным:\")\n",
        "posts_data.describe().show()\n",
        "\n",
        "print(\"\\nОбщее количество записей:\")\n",
        "print(posts_data.count())"
      ],
      "metadata": {
        "id": "3XCCA7M5UNf8",
        "colab": {
          "base_uri": "https://localhost:8080/"
        },
        "outputId": "c441e36a-0aff-4f14-bebd-55c2e708fbc1"
      },
      "execution_count": 17,
      "outputs": [
        {
          "output_type": "stream",
          "name": "stdout",
          "text": [
            "Схема данных:\n",
            "root\n",
            " |-- _AcceptedAnswerId: long (nullable = true)\n",
            " |-- _AnswerCount: long (nullable = true)\n",
            " |-- _Body: string (nullable = true)\n",
            " |-- _ClosedDate: timestamp (nullable = true)\n",
            " |-- _CommentCount: long (nullable = true)\n",
            " |-- _CommunityOwnedDate: timestamp (nullable = true)\n",
            " |-- _CreationDate: timestamp (nullable = true)\n",
            " |-- _FavoriteCount: long (nullable = true)\n",
            " |-- _Id: long (nullable = true)\n",
            " |-- _LastActivityDate: timestamp (nullable = true)\n",
            " |-- _LastEditDate: timestamp (nullable = true)\n",
            " |-- _LastEditorDisplayName: string (nullable = true)\n",
            " |-- _LastEditorUserId: long (nullable = true)\n",
            " |-- _OwnerDisplayName: string (nullable = true)\n",
            " |-- _OwnerUserId: long (nullable = true)\n",
            " |-- _ParentId: long (nullable = true)\n",
            " |-- _PostTypeId: long (nullable = true)\n",
            " |-- _Score: long (nullable = true)\n",
            " |-- _Tags: string (nullable = true)\n",
            " |-- _Title: string (nullable = true)\n",
            " |-- _ViewCount: long (nullable = true)\n",
            "\n",
            "\n",
            "Первые 5 записей:\n",
            "+-----------------+------------+--------------------+-----------+-------------+--------------------+--------------------+--------------+---+--------------------+--------------------+----------------------+-----------------+-----------------+------------+---------+-----------+------+--------------------+--------------------+----------+\n",
            "|_AcceptedAnswerId|_AnswerCount|               _Body|_ClosedDate|_CommentCount| _CommunityOwnedDate|       _CreationDate|_FavoriteCount|_Id|   _LastActivityDate|       _LastEditDate|_LastEditorDisplayName|_LastEditorUserId|_OwnerDisplayName|_OwnerUserId|_ParentId|_PostTypeId|_Score|               _Tags|              _Title|_ViewCount|\n",
            "+-----------------+------------+--------------------+-----------+-------------+--------------------+--------------------+--------------+---+--------------------+--------------------+----------------------+-----------------+-----------------+------------+---------+-----------+------+--------------------+--------------------+----------+\n",
            "|                7|          13|<p>I want to use ...|       NULL|            2|2012-10-31 16:42:...|2008-07-31 21:42:...|            48|  4|2019-07-19 01:39:...|2019-07-19 01:39:...|                Rich B|          3641067|             NULL|           8|     NULL|          1|   630|<c#><floating-poi...|Convert Decimal t...|     42817|\n",
            "|               31|           6|<p>I have an abso...|       NULL|            0|                NULL|2008-07-31 22:08:...|            10|  6|2019-07-19 01:43:...|2019-07-19 01:43:...|                Rich B|          3641067|             NULL|           9|     NULL|          1|   281|<html><css><inter...|Percentage width ...|     18214|\n",
            "|             NULL|        NULL|<p>An explicit ca...|       NULL|            0|                NULL|2008-07-31 22:17:...|          NULL|  7|2017-12-16 05:06:...|2017-12-16 05:06:...|                  NULL|          4020527|             NULL|           9|        4|          2|   425|                NULL|                NULL|      NULL|\n",
            "|             1404|          63|<p>Given a <code>...|       NULL|            5|2011-08-16 19:40:...|2008-07-31 23:40:...|           436|  9|2019-06-26 15:25:...|2018-04-21 17:48:...|                Rich B|          3956566|             NULL|           1|     NULL|          1|  1742|<c#><.net><datetime>|How do I calculat...|    555183|\n",
            "|             1248|          37|<p>Given a specif...|       NULL|            3|2009-09-04 13:15:...|2008-07-31 23:55:...|           539| 11|2019-05-26 02:31:...|2017-06-04 15:51:...|           user2370523|          6479704|             NULL|           1|     NULL|          1|  1444|<c#><datetime><ti...|Calculate relativ...|    149445|\n",
            "+-----------------+------------+--------------------+-----------+-------------+--------------------+--------------------+--------------+---+--------------------+--------------------+----------------------+-----------------+-----------------+------------+---------+-----------+------+--------------------+--------------------+----------+\n",
            "only showing top 5 rows\n",
            "\n",
            "\n",
            "Статистика по данным:\n",
            "+-------+--------------------+------------------+--------------------+------------------+------------------+--------------------+----------------------+------------------+-----------------+------------------+--------------------+------------------+------------------+-----------------+--------------------+------------------+\n",
            "|summary|   _AcceptedAnswerId|      _AnswerCount|               _Body|     _CommentCount|    _FavoriteCount|                 _Id|_LastEditorDisplayName| _LastEditorUserId|_OwnerDisplayName|      _OwnerUserId|           _ParentId|       _PostTypeId|            _Score|            _Tags|              _Title|        _ViewCount|\n",
            "+-------+--------------------+------------------+--------------------+------------------+------------------+--------------------+----------------------+------------------+-----------------+------------------+--------------------+------------------+------------------+-----------------+--------------------+------------------+\n",
            "|  count|                9510|             18055|               46006|             46006|              4114|               46006|                   306|             18283|             1041|             45459|               27863|             46006|             46006|            18055|               18055|             18055|\n",
            "|   mean|2.7162224087907467E7|1.5406258654112435|                NULL| 1.627678998391514|2.8410306271268837| 2.841079576779116E7|                  NULL|2299741.6452989117|             NULL|2738545.1534129656|2.5664491707353838E7|1.6123549102291006| 2.605855757944616|             NULL|                NULL| 2390.661589587372|\n",
            "| stddev|1.6554270224830523E7| 1.563896119203063|                NULL|2.4710189057187044|15.552832509977994|1.6842348816968918E7|                  NULL|  2591596.07436971|             NULL|2768762.4204269676|1.6844008378592387E7|0.5047053344290593|23.783318848732357|             NULL|                NULL|27131.390062048562|\n",
            "|    min|                   7|                 0|                    |                 0|                 0|                   4|     &#211;lafur Waage|                -1|&#211;lafur Waage|                -1|                   4|                 1|               -21|      <.htaccess>|\"&\" or \"&amp;\" in...|                 2|\n",
            "|    max|            57735208|                63|react-spring is a...|                44|               539|            57743417|            zacherates|          11985504|             ʞɔıu|          12001913|            57743358|                 5|              2683|<zurb-foundation>|“error validating...|           3042469|\n",
            "+-------+--------------------+------------------+--------------------+------------------+------------------+--------------------+----------------------+------------------+-----------------+------------------+--------------------+------------------+------------------+-----------------+--------------------+------------------+\n",
            "\n",
            "\n",
            "Общее количество записей:\n",
            "46006\n"
          ]
        }
      ]
    },
    {
      "cell_type": "markdown",
      "source": [
        "### Фильтрация постов по дате:"
      ],
      "metadata": {
        "id": "FSyE0m8ozlQs"
      }
    },
    {
      "cell_type": "code",
      "source": [
        "# Определение временного диапазона (2010-2020)\n",
        "dates = (\"2010-01-01\", \"2020-12-31\")\n",
        "\n",
        "# Фильтрация постов по дате создания\n",
        "posts_by_date = posts_data.filter(\n",
        "    F.col(\"_CreationDate\").between(*dates)\n",
        ")\n",
        "\n",
        "# Просмотр первых 10 записей\n",
        "posts_by_date.show(10)"
      ],
      "metadata": {
        "colab": {
          "base_uri": "https://localhost:8080/"
        },
        "id": "6h3zMjtzUj-d",
        "outputId": "d64a07e8-fa88-4c85-a961-ed59f72aa507"
      },
      "execution_count": 18,
      "outputs": [
        {
          "output_type": "stream",
          "name": "stdout",
          "text": [
            "+-----------------+------------+--------------------+-----------+-------------+--------------------+--------------------+--------------+-------+--------------------+--------------------+----------------------+-----------------+-----------------+------------+---------+-----------+------+-----+------+----------+\n",
            "|_AcceptedAnswerId|_AnswerCount|               _Body|_ClosedDate|_CommentCount| _CommunityOwnedDate|       _CreationDate|_FavoriteCount|    _Id|   _LastActivityDate|       _LastEditDate|_LastEditorDisplayName|_LastEditorUserId|_OwnerDisplayName|_OwnerUserId|_ParentId|_PostTypeId|_Score|_Tags|_Title|_ViewCount|\n",
            "+-----------------+------------+--------------------+-----------+-------------+--------------------+--------------------+--------------+-------+--------------------+--------------------+----------------------+-----------------+-----------------+------------+---------+-----------+------+-----+------+----------+\n",
            "|             NULL|        NULL|<p>No. (And more ...|       NULL|            6|                NULL|2010-09-20 16:18:...|          NULL|3753373|2010-09-20 16:18:...|                NULL|                  NULL|             NULL|             NULL|       10293|  3753364|          2|    13| NULL|  NULL|      NULL|\n",
            "|             NULL|        NULL|<p>I am not aware...|       NULL|            2|                NULL|2010-09-20 18:36:...|          NULL|3754384|2010-09-20 18:43:...|2010-09-20 18:43:...|                  NULL|           140185|             NULL|      140185|  3754279|          2|     2| NULL|  NULL|      NULL|\n",
            "|             NULL|        NULL|<p>If you want a ...|       NULL|            2|                NULL|2010-09-20 19:04:...|          NULL|3754601|2010-09-20 19:04:...|                NULL|                  NULL|             NULL|             NULL|        7280|  3754553|          2|     1| NULL|  NULL|      NULL|\n",
            "|             NULL|        NULL|<p>The very first...|       NULL|            0|                NULL|2010-09-21 02:07:...|          NULL|3756831|2010-09-21 02:07:...|                NULL|                  NULL|             NULL|             NULL|      349130|  3756770|          2|     9| NULL|  NULL|      NULL|\n",
            "|             NULL|        NULL|<p>It seems to me...|       NULL|            3|                NULL|2010-09-21 07:33:...|          NULL|3758183|2010-09-21 07:33:...|                NULL|                  NULL|             NULL|             NULL|       15168|  3754526|          2|     0| NULL|  NULL|      NULL|\n",
            "|             NULL|        NULL|<p>In Django orig...|       NULL|            3|2010-09-21 11:46:...|2010-09-21 11:46:...|          NULL|3759958|2010-09-21 13:40:...|2010-09-21 13:40:...|                  NULL|           377095|             NULL|      377095|  3759524|          2|     1| NULL|  NULL|      NULL|\n",
            "|             NULL|        NULL|<p>You can't. Mic...|       NULL|            0|                NULL|2010-09-21 12:07:...|          NULL|3760101|2010-09-21 12:07:...|                NULL|                  NULL|             NULL|             NULL|      155641|  3760066|          2|     1| NULL|  NULL|      NULL|\n",
            "|             NULL|        NULL|<p>I don't know, ...|       NULL|            0|                NULL|2010-09-21 13:16:...|          NULL|3760630|2010-09-21 13:16:...|                NULL|                  NULL|             NULL|             NULL|      417143|  2739558|          2|     0| NULL|  NULL|      NULL|\n",
            "|             NULL|        NULL|<p>You can't unle...|       NULL|            2|                NULL|2010-09-21 15:09:...|          NULL|3761678|2010-09-21 15:09:...|                NULL|                  NULL|             NULL|             NULL|       77409|  3761429|          2|     2| NULL|  NULL|      NULL|\n",
            "|             NULL|        NULL|<p>Assume your se...|       NULL|            0|                NULL|2010-09-21 16:22:...|          NULL|3762339|2010-09-21 16:22:...|                NULL|                  NULL|             NULL|             NULL|        4280|  3761757|          2|     0| NULL|  NULL|      NULL|\n",
            "+-----------------+------------+--------------------+-----------+-------------+--------------------+--------------------+--------------+-------+--------------------+--------------------+----------------------+-----------------+-----------------+------------+---------+-----------+------+-----+------+----------+\n",
            "only showing top 10 rows\n",
            "\n"
          ]
        }
      ]
    },
    {
      "cell_type": "markdown",
      "source": [
        "### Чтение и анализ данных programming-languages.csv"
      ],
      "metadata": {
        "id": "iRB9tFB-z2y4"
      }
    },
    {
      "cell_type": "code",
      "source": [
        "# Чтение CSV-файла с языками программирования\n",
        "languages_data = spark.read \\\n",
        "    .format('csv') \\\n",
        "    .option('header', 'true') \\\n",
        "    .option(\"inferSchema\", True) \\\n",
        "    .load('programming-languages.csv') \\\n",
        "    .dropna()\n",
        "\n",
        "# Вывод информации о данных\n",
        "print(\"Схема данных:\")\n",
        "languages_data.printSchema()\n",
        "\n",
        "print(\"\\nПервые 5 записей:\")\n",
        "languages_data.show(n=5)\n",
        "\n",
        "print(\"\\nСтатистика по данным:\")\n",
        "languages_data.describe().show()\n",
        "\n",
        "print(\"\\nОбщее количество записей:\")\n",
        "print(languages_data.count())"
      ],
      "metadata": {
        "id": "u4Ix31EuUqx5",
        "colab": {
          "base_uri": "https://localhost:8080/"
        },
        "outputId": "af3cded7-9d57-45ad-e9ea-6976fa1725e4"
      },
      "execution_count": 19,
      "outputs": [
        {
          "output_type": "stream",
          "name": "stdout",
          "text": [
            "Схема данных:\n",
            "root\n",
            " |-- name: string (nullable = true)\n",
            " |-- wikipedia_url: string (nullable = true)\n",
            "\n",
            "\n",
            "Первые 5 записей:\n",
            "+----------+--------------------+\n",
            "|      name|       wikipedia_url|\n",
            "+----------+--------------------+\n",
            "|   A# .NET|https://en.wikipe...|\n",
            "|A# (Axiom)|https://en.wikipe...|\n",
            "|A-0 System|https://en.wikipe...|\n",
            "|        A+|https://en.wikipe...|\n",
            "|       A++|https://en.wikipe...|\n",
            "+----------+--------------------+\n",
            "only showing top 5 rows\n",
            "\n",
            "\n",
            "Статистика по данным:\n",
            "+-------+--------+--------------------+\n",
            "|summary|    name|       wikipedia_url|\n",
            "+-------+--------+--------------------+\n",
            "|  count|     699|                 699|\n",
            "|   mean|    NULL|                NULL|\n",
            "| stddev|    NULL|                NULL|\n",
            "|    min|@Formula|https://en.wikipe...|\n",
            "|    max|xHarbour|https://en.wikipe...|\n",
            "+-------+--------+--------------------+\n",
            "\n",
            "\n",
            "Общее количество записей:\n",
            "699\n"
          ]
        }
      ]
    },
    {
      "cell_type": "code",
      "source": [
        "# Получение списка названий языков программирования\n",
        "language_names = [str(row[0]) for row in languages_data.collect()]"
      ],
      "metadata": {
        "id": "zEaoHEFJUwQq"
      },
      "execution_count": 20,
      "outputs": []
    },
    {
      "cell_type": "markdown",
      "source": [
        "### Определение функции для поиска языков в тегах"
      ],
      "metadata": {
        "id": "uw-SzLWI0By-"
      }
    },
    {
      "cell_type": "code",
      "source": [
        "def includes_name(post):\n",
        "    \"\"\"\n",
        "    Функция определяет, какой язык программирования упомянут в тегах поста.\n",
        "    Возвращает кортеж (дата создания, название языка или 'No', если язык не найден).\n",
        "    \"\"\"\n",
        "    tag = None\n",
        "    for name in language_names:\n",
        "        tag_pattern = f\"<{name.lower()}>\"\n",
        "        if tag_pattern in str(post._Tags).lower():\n",
        "            tag = name\n",
        "            break\n",
        "    if tag is None:\n",
        "        tag = 'No'\n",
        "    return (post._CreationDate, tag)"
      ],
      "metadata": {
        "id": "XudwrVxzU3H_"
      },
      "execution_count": 21,
      "outputs": []
    },
    {
      "cell_type": "markdown",
      "source": [
        "## Обработка данных и создание отчета"
      ],
      "metadata": {
        "id": "sC6Cy__t0H0I"
      }
    },
    {
      "cell_type": "code",
      "source": [
        "# Преобразование DataFrame в RDD, применение функции и фильтрация\n",
        "posts_by_date_rdd = posts_by_date.rdd \\\n",
        "    .map(includes_name) \\\n",
        "    .filter(lambda x: x[1] != 'No')\n",
        "\n",
        "# Группировка по году и языку, подсчет и сортировка\n",
        "posts_by_date_rdd_group = posts_by_date_rdd \\\n",
        "    .keyBy(lambda row: (row[0].year, row[1])) \\\n",
        "    .aggregateByKey(0, lambda x, y: x + 1, lambda x1, x2: x1 + x2) \\\n",
        "    .sortBy(lambda x: x[1], ascending=False) \\\n",
        "    .collect()\n",
        "\n",
        "# Список годов (2010-2020) в обратном порядке\n",
        "years_list = list(range(2010, 2021))[::-1]\n",
        "\n",
        "# Формирование топ-10 языков для каждого года\n",
        "df_by_years = []\n",
        "for year in years_list:\n",
        "    df_by_years.extend([row for row in posts_by_date_rdd_group if row[0][0] == year][:10])\n",
        "\n",
        "# Определение структуры строки для DataFrame\n",
        "row_template = Row('Year', 'Language', 'Count')\n",
        "\n",
        "# Создание итогового DataFrame\n",
        "result_df = spark.createDataFrame(\n",
        "    [row_template(*x, y) for x, y in df_by_years]\n",
        ")\n",
        "\n",
        "# Вывод результата\n",
        "result_df.show()\n",
        "\n",
        "# Сохранение в формате Parquet\n",
        "result_df.write.parquet(\"top_10_languages_between_2010_and_2020.parquet\")"
      ],
      "metadata": {
        "colab": {
          "base_uri": "https://localhost:8080/"
        },
        "id": "OknYB5s8U6qE",
        "outputId": "60de5a62-73ae-4960-da98-3db4c05f77c7"
      },
      "execution_count": 24,
      "outputs": [
        {
          "output_type": "stream",
          "name": "stdout",
          "text": [
            "+----+----------+-----+\n",
            "|Year|  Language|Count|\n",
            "+----+----------+-----+\n",
            "|2019|    Python|  162|\n",
            "|2019|JavaScript|  131|\n",
            "|2019|      Java|   95|\n",
            "|2019|       PHP|   59|\n",
            "|2019|         R|   36|\n",
            "|2019|         C|   14|\n",
            "|2019|      Dart|    9|\n",
            "|2019|    MATLAB|    9|\n",
            "|2019|        Go|    9|\n",
            "|2019|      Bash|    8|\n",
            "|2018|    Python|  214|\n",
            "|2018|JavaScript|  196|\n",
            "|2018|      Java|  145|\n",
            "|2018|       PHP|   99|\n",
            "|2018|         R|   63|\n",
            "|2018|         C|   24|\n",
            "|2018|     Scala|   22|\n",
            "|2018|TypeScript|   21|\n",
            "|2018|PowerShell|   13|\n",
            "|2018|      Bash|   12|\n",
            "+----+----------+-----+\n",
            "only showing top 20 rows\n",
            "\n"
          ]
        }
      ]
    }
  ]
}